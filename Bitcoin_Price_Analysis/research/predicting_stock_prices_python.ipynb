{
 "cells": [
  {
   "cell_type": "markdown",
   "metadata": {},
   "source": [
    "# Predicting Stock Prices in Python: Vid from Sean  \n",
    "\n",
    "https://www.youtube.com/watch?v=PuZY9q-aKLw"
   ]
  },
  {
   "cell_type": "code",
   "execution_count": 54,
   "metadata": {},
   "outputs": [],
   "source": [
    "import numpy as np\n",
    "import matplotlib.pyplot as plt\n",
    "import pandas as pd\n",
    "import pandas_datareader as web\n",
    "import datetime as dt\n",
    "import investpy as ipy\n",
    "\n",
    "from sklearn.model_selection import TimeSeriesSplit\n",
    "from sklearn.preprocessing import MinMaxScaler\n",
    "\n",
    "# from tensorflow.keras.models import Sequential\n",
    "from tensorflow.keras.layers import Dense, Dropout, LSTM\n",
    "\n",
    "from keras.models import Sequential\n",
    "from keras.preprocessing.sequence import TimeseriesGenerator\n",
    "\n",
    "\n",
    "# from keras.layers import Dense\n",
    "# from keras.layers import LSTM"
   ]
  },
  {
   "cell_type": "code",
   "execution_count": 2,
   "metadata": {
    "jupyter": {
     "source_hidden": true
    }
   },
   "outputs": [],
   "source": [
    "company = 'FB'\n",
    "\n",
    "start = '01/01/2012'\n",
    "end = '01/01/2020'\n",
    "\n",
    "# data = web.DataReader(company, 'yahoo', start, end)\n",
    "data = ipy.get_stock_historical_data(stock=company,\n",
    "                                          country='United States',\n",
    "                                          from_date=start,\n",
    "                                          to_date=end)"
   ]
  },
  {
   "cell_type": "code",
   "execution_count": 10,
   "metadata": {
    "collapsed": true,
    "jupyter": {
     "outputs_hidden": true
    }
   },
   "outputs": [
    {
     "data": {
      "text/html": [
       "<div>\n",
       "<style scoped>\n",
       "    .dataframe tbody tr th:only-of-type {\n",
       "        vertical-align: middle;\n",
       "    }\n",
       "\n",
       "    .dataframe tbody tr th {\n",
       "        vertical-align: top;\n",
       "    }\n",
       "\n",
       "    .dataframe thead th {\n",
       "        text-align: right;\n",
       "    }\n",
       "</style>\n",
       "<table border=\"1\" class=\"dataframe\">\n",
       "  <thead>\n",
       "    <tr style=\"text-align: right;\">\n",
       "      <th></th>\n",
       "      <th>Open</th>\n",
       "      <th>High</th>\n",
       "      <th>Low</th>\n",
       "      <th>Close</th>\n",
       "      <th>Volume</th>\n",
       "      <th>Currency</th>\n",
       "    </tr>\n",
       "    <tr>\n",
       "      <th>Date</th>\n",
       "      <th></th>\n",
       "      <th></th>\n",
       "      <th></th>\n",
       "      <th></th>\n",
       "      <th></th>\n",
       "      <th></th>\n",
       "    </tr>\n",
       "  </thead>\n",
       "  <tbody>\n",
       "    <tr>\n",
       "      <th>2012-05-18</th>\n",
       "      <td>42.05</td>\n",
       "      <td>45.00</td>\n",
       "      <td>38.00</td>\n",
       "      <td>38.23</td>\n",
       "      <td>580587712</td>\n",
       "      <td>USD</td>\n",
       "    </tr>\n",
       "    <tr>\n",
       "      <th>2012-05-21</th>\n",
       "      <td>36.53</td>\n",
       "      <td>36.66</td>\n",
       "      <td>33.00</td>\n",
       "      <td>34.03</td>\n",
       "      <td>168309824</td>\n",
       "      <td>USD</td>\n",
       "    </tr>\n",
       "    <tr>\n",
       "      <th>2012-05-22</th>\n",
       "      <td>32.61</td>\n",
       "      <td>33.59</td>\n",
       "      <td>30.94</td>\n",
       "      <td>31.00</td>\n",
       "      <td>102053824</td>\n",
       "      <td>USD</td>\n",
       "    </tr>\n",
       "    <tr>\n",
       "      <th>2012-05-23</th>\n",
       "      <td>31.37</td>\n",
       "      <td>32.50</td>\n",
       "      <td>31.36</td>\n",
       "      <td>32.00</td>\n",
       "      <td>73721136</td>\n",
       "      <td>USD</td>\n",
       "    </tr>\n",
       "    <tr>\n",
       "      <th>2012-05-24</th>\n",
       "      <td>32.95</td>\n",
       "      <td>33.21</td>\n",
       "      <td>31.77</td>\n",
       "      <td>33.03</td>\n",
       "      <td>50275880</td>\n",
       "      <td>USD</td>\n",
       "    </tr>\n",
       "  </tbody>\n",
       "</table>\n",
       "</div>"
      ],
      "text/plain": [
       "             Open   High    Low  Close     Volume Currency\n",
       "Date                                                      \n",
       "2012-05-18  42.05  45.00  38.00  38.23  580587712      USD\n",
       "2012-05-21  36.53  36.66  33.00  34.03  168309824      USD\n",
       "2012-05-22  32.61  33.59  30.94  31.00  102053824      USD\n",
       "2012-05-23  31.37  32.50  31.36  32.00   73721136      USD\n",
       "2012-05-24  32.95  33.21  31.77  33.03   50275880      USD"
      ]
     },
     "execution_count": 10,
     "metadata": {},
     "output_type": "execute_result"
    }
   ],
   "source": [
    "data.head()"
   ]
  },
  {
   "cell_type": "code",
   "execution_count": 3,
   "metadata": {
    "jupyter": {
     "source_hidden": true
    }
   },
   "outputs": [],
   "source": [
    "scaler = MinMaxScaler(feature_range=(0, 1))\n",
    "scaled_data = scaler.fit_transform(data['Close'].values.reshape(-1, 1))\n",
    "\n",
    "prediction_days = 60\n",
    "\n",
    "X_train = []\n",
    "y_train = []\n",
    "\n",
    "for x in range(prediction_days, len(scaled_data)):\n",
    "    \n",
    "    X_train.append(scaled_data[x - prediction_days: x, 0])\n",
    "    y_train.append(scaled_data[x, 0])\n",
    "    \n",
    "X_train, y_train = np.array(X_train), np.array(y_train)\n",
    "X_train = np.reshape(X_train, (X_train.shape[0], X_train.shape[1], 1))"
   ]
  },
  {
   "cell_type": "code",
   "execution_count": 4,
   "metadata": {
    "collapsed": true,
    "jupyter": {
     "outputs_hidden": true,
     "source_hidden": true
    }
   },
   "outputs": [
    {
     "name": "stdout",
     "output_type": "stream",
     "text": [
      "Epoch 1/20\n",
      "59/59 [==============================] - 5s 37ms/step - loss: 0.0310\n",
      "Epoch 2/20\n",
      "59/59 [==============================] - 2s 36ms/step - loss: 0.0040\n",
      "Epoch 3/20\n",
      "59/59 [==============================] - 2s 37ms/step - loss: 0.0034\n",
      "Epoch 4/20\n",
      "59/59 [==============================] - 2s 36ms/step - loss: 0.0035\n",
      "Epoch 5/20\n",
      "59/59 [==============================] - 2s 36ms/step - loss: 0.0034\n",
      "Epoch 6/20\n",
      "59/59 [==============================] - 2s 36ms/step - loss: 0.0028\n",
      "Epoch 7/20\n",
      "59/59 [==============================] - 2s 37ms/step - loss: 0.0037\n",
      "Epoch 8/20\n",
      "59/59 [==============================] - 2s 36ms/step - loss: 0.0031\n",
      "Epoch 9/20\n",
      "59/59 [==============================] - 2s 36ms/step - loss: 0.0032\n",
      "Epoch 10/20\n",
      "59/59 [==============================] - 2s 36ms/step - loss: 0.0027\n",
      "Epoch 11/20\n",
      "59/59 [==============================] - 2s 36ms/step - loss: 0.0030\n",
      "Epoch 12/20\n",
      "59/59 [==============================] - 2s 36ms/step - loss: 0.0027\n",
      "Epoch 13/20\n",
      "59/59 [==============================] - 2s 36ms/step - loss: 0.0026\n",
      "Epoch 14/20\n",
      "59/59 [==============================] - 2s 36ms/step - loss: 0.0025\n",
      "Epoch 15/20\n",
      "59/59 [==============================] - 2s 37ms/step - loss: 0.0022\n",
      "Epoch 16/20\n",
      "59/59 [==============================] - 2s 36ms/step - loss: 0.0024\n",
      "Epoch 17/20\n",
      "59/59 [==============================] - 2s 36ms/step - loss: 0.0034\n",
      "Epoch 18/20\n",
      "59/59 [==============================] - 2s 36ms/step - loss: 0.0026\n",
      "Epoch 19/20\n",
      "59/59 [==============================] - 2s 37ms/step - loss: 0.0023\n",
      "Epoch 20/20\n",
      "59/59 [==============================] - 2s 36ms/step - loss: 0.0022\n"
     ]
    },
    {
     "data": {
      "text/plain": [
       "<tensorflow.python.keras.callbacks.History at 0x7f00301b5ad0>"
      ]
     },
     "execution_count": 4,
     "metadata": {},
     "output_type": "execute_result"
    }
   ],
   "source": [
    "model = Sequential()\n",
    "\n",
    "model.add(LSTM(units=50, return_sequences=True, input_shape=(X_train.shape[1], 1)))\n",
    "model.add(Dropout(0.2))\n",
    "\n",
    "model.add(LSTM(units=50, return_sequences=True))\n",
    "model.add(Dropout(0.2))\n",
    "\n",
    "model.add(LSTM(units=50))\n",
    "model.add(Dropout(0.2))\n",
    "\n",
    "model.add(Dense(units=1)) # Prediction of the next closing value\n",
    "\n",
    "model.compile(optimizer='adam', loss='mean_squared_error')\n",
    "model.fit(X_train, y_train, epochs=20, batch_size=32)\n",
    "\n",
    "# modelscores = model.evaluate(X, Y, verbose=0)\n",
    "# print(\"%s: %.2f%%\" % (model.metrics_names[1], scores[1]*100))"
   ]
  },
  {
   "cell_type": "code",
   "execution_count": 5,
   "metadata": {
    "jupyter": {
     "source_hidden": true
    }
   },
   "outputs": [],
   "source": [
    "model.save('pred_stck_prices.h5')\n",
    "\n",
    "# # load model\n",
    "# model = load_model('pred_stck_prices.h5')\n",
    "# # summarize model.\n",
    "# model.summary()"
   ]
  },
  {
   "cell_type": "code",
   "execution_count": 6,
   "metadata": {
    "jupyter": {
     "source_hidden": true
    }
   },
   "outputs": [],
   "source": [
    "'''Test model accuracy on existing data'''\n",
    "\n",
    "# Load test data\n",
    "test_start = '01/01/2020'\n",
    "\n",
    "today = dt.date.today()\n",
    "today_proper = today.strftime(\"%d/%m/%Y\")\n",
    "test_end = today_proper\n",
    "\n",
    "test_data = ipy.get_stock_historical_data(stock=company,\n",
    "                              country='United States',\n",
    "                              from_date=test_start,\n",
    "                              to_date=test_end)\n",
    "\n",
    "# If you utilize test/train/split then X_test will function as t\n",
    "actual_prices = test_data['Close'].values\n",
    "\n",
    "total_dataset = pd.concat((data['Close'], test_data['Close']))\n",
    "\n",
    "model_inputs = total_dataset[len(total_dataset) - len(test_data) - prediction_days:].values\n",
    "model_inputs = model_inputs.reshape(-1, 1)\n",
    "model_inputs = scaler.transform(model_inputs)"
   ]
  },
  {
   "cell_type": "code",
   "execution_count": 7,
   "metadata": {
    "collapsed": true,
    "jupyter": {
     "outputs_hidden": true,
     "source_hidden": true
    }
   },
   "outputs": [
    {
     "data": {
      "image/png": "[encoded data removed]",
      "text/plain": [
       "<Figure size 432x288 with 1 Axes>"
      ]
     },
     "metadata": {
      "needs_background": "light"
     },
     "output_type": "display_data"
    }
   ],
   "source": [
    "'''Make predictions on test data'''\n",
    "\n",
    "X_test = []\n",
    "\n",
    "for x in range(prediction_days, len(model_inputs)):\n",
    "    \n",
    "    X_test.append(model_inputs[x - prediction_days:x, 0])\n",
    "    \n",
    "X_test = np.array(X_test)\n",
    "X_test = np.reshape(X_test, (X_test.shape[0], X_test.shape[1], 1))\n",
    "\n",
    "predicted_prices = model.predict(X_test)\n",
    "predicted_prices = scaler.inverse_transform(predicted_prices)\n",
    "\n",
    "# Plot the test predictions\n",
    "plt.plot(actual_prices, color='black', label=f'Actual {company} price')\n",
    "plt.plot(predicted_prices, color='green', label=f'Predicted {company} price')\n",
    "plt.title(f'{company} Share Price')\n",
    "plt.xlabel('Time')\n",
    "plt.ylabel(f'{company} Share Price')\n",
    "plt.legend()\n",
    "plt.show()"
   ]
  },
  {
   "cell_type": "code",
   "execution_count": 9,
   "metadata": {
    "collapsed": true,
    "jupyter": {
     "outputs_hidden": true,
     "source_hidden": true
    }
   },
   "outputs": [
    {
     "name": "stdout",
     "output_type": "stream",
     "text": [
      "WARNING:tensorflow:Model was constructed with shape (None, 60, 1) for input KerasTensor(type_spec=TensorSpec(shape=(None, 60, 1), dtype=tf.float32, name='lstm_input'), name='lstm_input', description=\"created by layer 'lstm_input'\"), but it was called on an input with incompatible shape (None, 59, 1).\n",
      "Prediction: [[296.84906]]\n"
     ]
    }
   ],
   "source": [
    "# Predict Next Day\n",
    "real_data = [model_inputs[len(model_inputs) + 1 - prediction_days:len(model_inputs + 1), 0]]\n",
    "real_data = np.array(real_data)\n",
    "real_data = np.reshape(real_data, (real_data.shape[0], real_data.shape[1], 1))\n",
    "\n",
    "prediction = model.predict(real_data)\n",
    "prediction = scaler.inverse_transform(prediction)\n",
    "print(f'Prediction: {prediction}')"
   ]
  },
  {
   "cell_type": "markdown",
   "metadata": {},
   "source": [
    "# Rolling Forecast Origin"
   ]
  },
  {
   "cell_type": "code",
   "execution_count": 3,
   "metadata": {},
   "outputs": [
    {
     "name": "stdout",
     "output_type": "stream",
     "text": [
      "TimeSeriesSplit(max_train_size=3, n_splits=5)\n",
      "TRAIN: [0] TEST: [1]\n",
      "TRAIN: [0 1] TEST: [2]\n",
      "TRAIN: [0 1 2] TEST: [3]\n",
      "TRAIN: [1 2 3] TEST: [4]\n",
      "TRAIN: [2 3 4] TEST: [5]\n"
     ]
    }
   ],
   "source": [
    "X = np.array([[1, 2], [3, 4], [1, 2], [3, 4], [1, 2], [3, 4]])\n",
    "y = np.array([1, 2, 3, 4, 5, 6])\n",
    "tscv = TimeSeriesSplit(max_train_size=3)\n",
    "print(tscv)\n",
    "\n",
    "for train_index, test_index in tscv.split(X):\n",
    "    print(\"TRAIN:\", train_index, \"TEST:\", test_index)\n",
    "    X_train, X_test = X[train_index], X[test_index]\n",
    "    y_train, y_test = y[train_index], y[test_index]"
   ]
  },
  {
   "cell_type": "code",
   "execution_count": 4,
   "metadata": {},
   "outputs": [
    {
     "name": "stdout",
     "output_type": "stream",
     "text": [
      "Samples: 8\n",
      "[[1 2]] => [3]\n",
      "[[2 3]] => [4]\n",
      "[[3 4]] => [5]\n",
      "[[4 5]] => [6]\n",
      "[[5 6]] => [7]\n",
      "[[6 7]] => [8]\n",
      "[[7 8]] => [9]\n",
      "[[8 9]] => [10]\n"
     ]
    }
   ],
   "source": [
    "# define dataset\n",
    "series = np.array([1, 2, 3, 4, 5, 6, 7, 8, 9, 10])\n",
    "\n",
    "# define generator\n",
    "n_input = 2\n",
    "generator = TimeseriesGenerator(series, series, length=n_input, batch_size=1)\n",
    "\n",
    "# number of samples\n",
    "print('Samples: %d' % len(generator))\n",
    "\n",
    "for i in range(len(generator)):\n",
    "\tx, y = generator[i]\n",
    "\tprint('%s => %s' % (x, y))"
   ]
  },
  {
   "cell_type": "code",
   "execution_count": 5,
   "metadata": {},
   "outputs": [
    {
     "name": "stdout",
     "output_type": "stream",
     "text": [
      "(10,)\n"
     ]
    }
   ],
   "source": [
    "# MLP\n",
    "\n",
    "series = np.array([1, 2, 3, 4, 5, 6, 7, 8, 9, 10])\n",
    "print(series.shape)\n",
    "# define generator\n",
    "n_input = 2\n",
    "generator = TimeseriesGenerator(series, series, length=n_input, batch_size=8)"
   ]
  },
  {
   "cell_type": "code",
   "execution_count": 6,
   "metadata": {},
   "outputs": [],
   "source": [
    "# define model\n",
    "model = Sequential()\n",
    "model.add(Dense(100, activation='relu', input_dim=n_input))\n",
    "model.add(Dense(1))\n",
    "model.compile(optimizer='adam', loss='mse')"
   ]
  },
  {
   "cell_type": "code",
   "execution_count": 7,
   "metadata": {},
   "outputs": [
    {
     "name": "stderr",
     "output_type": "stream",
     "text": [
      "/home/bobbyhuck/anaconda3/lib/python3.7/site-packages/keras/engine/training.py:1915: UserWarning: `Model.fit_generator` is deprecated and will be removed in a future version. Please use `Model.fit`, which supports generators.\n",
      "  warnings.warn('`Model.fit_generator` is deprecated and '\n"
     ]
    },
    {
     "data": {
      "text/plain": [
       "<keras.callbacks.History at 0x7f1f04f5a5d0>"
      ]
     },
     "execution_count": 7,
     "metadata": {},
     "output_type": "execute_result"
    }
   ],
   "source": [
    "# fit model\n",
    "model.fit_generator(generator, steps_per_epoch=1, epochs=200, verbose=0)"
   ]
  },
  {
   "cell_type": "code",
   "execution_count": 8,
   "metadata": {},
   "outputs": [
    {
     "name": "stdout",
     "output_type": "stream",
     "text": [
      "Predicted value: 11.561013\n"
     ]
    }
   ],
   "source": [
    "# make a one step prediction out of sample\n",
    "x_input = np.array([9, 10]).reshape((1, n_input))\n",
    "yhat = model.predict(x_input, verbose=0)\n",
    "print('Predicted value:', yhat[0][0])"
   ]
  },
  {
   "cell_type": "code",
   "execution_count": 23,
   "metadata": {},
   "outputs": [
    {
     "name": "stdout",
     "output_type": "stream",
     "text": [
      "(10,)\n",
      "(10, 1)\n"
     ]
    }
   ],
   "source": [
    "#LSTM\n",
    "\n",
    "# define dataset\n",
    "series = np.array([1, 2, 3, 4, 5, 6, 7, 8, 9, 10])\n",
    "print(series.shape)\n",
    "# reshape to [10, 1]\n",
    "n_features = 1\n",
    "series = series.reshape((len(series), n_features))\n",
    "print(series.shape)"
   ]
  },
  {
   "cell_type": "code",
   "execution_count": 24,
   "metadata": {},
   "outputs": [],
   "source": [
    "# define generator\n",
    "n_input = 2\n",
    "generator = TimeseriesGenerator(series, series, length=n_input, batch_size=8)"
   ]
  },
  {
   "cell_type": "code",
   "execution_count": 25,
   "metadata": {},
   "outputs": [],
   "source": [
    "# define model\n",
    "model = Sequential()\n",
    "model.add(LSTM(100, activation='relu', input_shape=(n_input, n_features)))\n",
    "model.add(Dense(1))\n",
    "model.compile(optimizer='adam', loss='mse')"
   ]
  },
  {
   "cell_type": "code",
   "execution_count": 16,
   "metadata": {},
   "outputs": [],
   "source": []
  },
  {
   "cell_type": "code",
   "execution_count": 26,
   "metadata": {},
   "outputs": [
    {
     "data": {
      "text/plain": [
       "<keras.callbacks.History at 0x7f1ec81705d0>"
      ]
     },
     "execution_count": 26,
     "metadata": {},
     "output_type": "execute_result"
    }
   ],
   "source": [
    "# fit model\n",
    "model.fit_generator(generator, steps_per_epoch=1, epochs=500, verbose=0)"
   ]
  },
  {
   "cell_type": "code",
   "execution_count": 27,
   "metadata": {},
   "outputs": [
    {
     "name": "stdout",
     "output_type": "stream",
     "text": [
      "Predicted value: 10.926098\n"
     ]
    }
   ],
   "source": [
    "# make a one step prediction out of sample\n",
    "x_input = np.array([9, 10]).reshape((1, n_input, n_features))\n",
    "yhat = model.predict(x_input, verbose=0)\n",
    "print('Predicted value:', yhat[0][0])"
   ]
  },
  {
   "cell_type": "code",
   "execution_count": null,
   "metadata": {},
   "outputs": [],
   "source": []
  },
  {
   "cell_type": "markdown",
   "metadata": {},
   "source": [
    "# BITCOIN DIRTY"
   ]
  },
  {
   "cell_type": "code",
   "execution_count": null,
   "metadata": {},
   "outputs": [],
   "source": [
    "def rolling_forecast_origin(train, min_train_size, horizon):\n",
    "    '''Rolling forecast origin generator'''\n",
    "    \n",
    "    for i in range(len(train) - min_train_size)"
   ]
  },
  {
   "cell_type": "code",
   "execution_count": 2,
   "metadata": {},
   "outputs": [],
   "source": [
    "# Load Data\n",
    "company = 'bitcoin'\n",
    "\n",
    "start = '01/01/2010'\n",
    "end = '01/01/2020'\n",
    "\n",
    "# data = web.DataReader(company, 'yahoo', start, end)\n",
    "data = ipy.get_crypto_historical_data(crypto=company,\n",
    "                                      from_date=start,\n",
    "                                      to_date=end)\n",
    "\n",
    "# Scale data\n",
    "scaler = MinMaxScaler(feature_range=(0, 1))\n",
    "scaled_data = scaler.fit_transform(data['Close'].values.reshape(-1, 1))\n",
    "\n",
    "prediction_days = 12 # Shorter prediction days makes it more sensitive to fluctuations\n",
    "\n",
    "X_train = []\n",
    "y_train = []\n",
    "\n",
    "for x in range(prediction_days, len(scaled_data)):\n",
    "    \n",
    "    X_train.append(scaled_data[x - prediction_days: x, 0])\n",
    "    y_train.append(scaled_data[x, 0])\n",
    "    \n",
    "X_train, y_train = np.array(X_train), np.array(y_train)\n",
    "X_train = np.reshape(X_train, (X_train.shape[0], X_train.shape[1], 1))"
   ]
  },
  {
   "cell_type": "code",
   "execution_count": 57,
   "metadata": {},
   "outputs": [
    {
     "data": {
      "text/plain": [
       "array([1.0000e-01, 1.0000e-01, 1.0000e-01, ..., 7.2618e+03, 7.1964e+03,\n",
       "       7.1998e+03])"
      ]
     },
     "execution_count": 57,
     "metadata": {},
     "output_type": "execute_result"
    }
   ],
   "source": [
    "# Load Data\n",
    "company = 'bitcoin'\n",
    "\n",
    "start = '01/01/2010'\n",
    "end = '01/01/2020'\n",
    "\n",
    "# data = web.DataReader(company, 'yahoo', start, end)\n",
    "data = ipy.get_crypto_historical_data(crypto=company,\n",
    "                                      from_date=start,\n",
    "                                      to_date=end)\n",
    "\n",
    "# define dataset\n",
    "series = np.array(data['Close'])\n",
    "series"
   ]
  },
  {
   "cell_type": "code",
   "execution_count": 60,
   "metadata": {},
   "outputs": [
    {
     "name": "stdout",
     "output_type": "stream",
     "text": [
      "Predicted value: -1957.7046\n"
     ]
    }
   ],
   "source": [
    "# TIMESERIES GENERATOR\n",
    "\n",
    "# reshape to [10, 1]\n",
    "n_features = 1\n",
    "series = series.reshape((len(series), n_features))\n",
    "\n",
    "# define generator\n",
    "n_input = 60\n",
    "generator = TimeseriesGenerator(series, series, length=n_input, batch_size=60)\n",
    "\n",
    "# define model\n",
    "model = Sequential()\n",
    "model.add(LSTM(100, activation='relu', input_shape=(n_input, n_features)))\n",
    "model.add(Dense(1))\n",
    "model.compile(optimizer='adam', loss='mse')\n",
    "\n",
    "# fit model\n",
    "model.fit_generator(generator, steps_per_epoch=1, epochs=500, verbose=0)\n",
    "\n",
    "# make a one step prediction out of sample\n",
    "arr = np.array(series[-n_input:])\n",
    "x_input = arr.reshape((1, n_input, n_features))\n",
    "yhat = model.predict(x_input, verbose=0)\n",
    "\n",
    "print('Predicted value:', yhat[0][0])"
   ]
  },
  {
   "cell_type": "code",
   "execution_count": 39,
   "metadata": {},
   "outputs": [
    {
     "data": {
      "text/plain": [
       "Date\n",
       "2020-01-02    6967.0\n",
       "2020-01-03    7343.1\n",
       "Name: Close, dtype: float64"
      ]
     },
     "execution_count": 39,
     "metadata": {},
     "output_type": "execute_result"
    }
   ],
   "source": [
    "# Predicted value: 6948.1514\n",
    "\n",
    "company = 'bitcoin'\n",
    "\n",
    "start = '02/01/2020'\n",
    "end = '03/01/2020'\n",
    "\n",
    "prediction_check = data = ipy.get_crypto_historical_data(crypto=company,\n",
    "                                                         from_date=start,\n",
    "                                                         to_date=end)\n",
    "\n",
    "prediction_check['Close']"
   ]
  },
  {
   "cell_type": "code",
   "execution_count": 26,
   "metadata": {},
   "outputs": [
    {
     "name": "stdout",
     "output_type": "stream",
     "text": [
      "Epoch 1/20\n",
      "108/108 [==============================] - 4s 11ms/step - loss: 0.0040\n",
      "Epoch 2/20\n",
      "108/108 [==============================] - 1s 10ms/step - loss: 0.0012\n",
      "Epoch 3/20\n",
      "108/108 [==============================] - 1s 10ms/step - loss: 0.0012\n",
      "Epoch 4/20\n",
      "108/108 [==============================] - 1s 10ms/step - loss: 0.0011\n",
      "Epoch 5/20\n",
      "108/108 [==============================] - 1s 10ms/step - loss: 9.4194e-04\n",
      "Epoch 6/20\n",
      "108/108 [==============================] - 1s 10ms/step - loss: 0.0011\n",
      "Epoch 7/20\n",
      "108/108 [==============================] - 1s 11ms/step - loss: 9.5776e-04\n",
      "Epoch 8/20\n",
      "108/108 [==============================] - 1s 11ms/step - loss: 0.0010\n",
      "Epoch 9/20\n",
      "108/108 [==============================] - 1s 10ms/step - loss: 8.2546e-04\n",
      "Epoch 10/20\n",
      "108/108 [==============================] - 1s 10ms/step - loss: 7.9724e-04\n",
      "Epoch 11/20\n",
      "108/108 [==============================] - 1s 10ms/step - loss: 7.9581e-04\n",
      "Epoch 12/20\n",
      "108/108 [==============================] - 1s 10ms/step - loss: 9.2392e-04\n",
      "Epoch 13/20\n",
      "108/108 [==============================] - 1s 10ms/step - loss: 7.2517e-04\n",
      "Epoch 14/20\n",
      "108/108 [==============================] - 1s 10ms/step - loss: 7.2391e-04\n",
      "Epoch 15/20\n",
      "108/108 [==============================] - 1s 10ms/step - loss: 6.6917e-04\n",
      "Epoch 16/20\n",
      "108/108 [==============================] - 1s 10ms/step - loss: 6.4130e-04\n",
      "Epoch 17/20\n",
      "108/108 [==============================] - 1s 10ms/step - loss: 5.7220e-04\n",
      "Epoch 18/20\n",
      "108/108 [==============================] - 1s 10ms/step - loss: 6.7398e-04\n",
      "Epoch 19/20\n",
      "108/108 [==============================] - 1s 10ms/step - loss: 6.6102e-04\n",
      "Epoch 20/20\n",
      "108/108 [==============================] - 1s 10ms/step - loss: 5.8272e-04\n"
     ]
    },
    {
     "data": {
      "text/plain": [
       "<tensorflow.python.keras.callbacks.History at 0x7effbab998d0>"
      ]
     },
     "execution_count": 26,
     "metadata": {},
     "output_type": "execute_result"
    }
   ],
   "source": [
    "# Train Model\n",
    "model = Sequential()\n",
    "\n",
    "model.add(LSTM(units=50, return_sequences=True, input_shape=(X_train.shape[1], 1)))\n",
    "model.add(Dropout(0.2))\n",
    "\n",
    "model.add(LSTM(units=50, return_sequences=True))\n",
    "model.add(Dropout(0.2))\n",
    "\n",
    "# Adding a third LSTM layer and some Dropout regularization\n",
    "regressor.add(LSTM(units=50, return_sequences=True))\n",
    "regressor.add(Dropout(0.2))\n",
    "\n",
    "model.add(LSTM(units=50))\n",
    "model.add(Dropout(0.2))\n",
    "\n",
    "model.add(Dense(units=1)) # Prediction of the next closing value\n",
    "\n",
    "model.compile(optimizer='adam', loss='mean_squared_error')\n",
    "model.fit(X_train, y_train, epochs=20, batch_size=32)"
   ]
  },
  {
   "cell_type": "code",
   "execution_count": 27,
   "metadata": {},
   "outputs": [],
   "source": [
    "model.save('btc_pred_stck_prices_12ts.h5')\n",
    "\n",
    "# # load model\n",
    "# model = load_model('pred_stck_prices.h5')\n",
    "# # summarize model.\n",
    "# model.summary()"
   ]
  },
  {
   "cell_type": "code",
   "execution_count": 28,
   "metadata": {},
   "outputs": [
    {
     "data": {
      "image/png": "[encoded data removed]",
      "text/plain": [
       "<Figure size 432x288 with 1 Axes>"
      ]
     },
     "metadata": {
      "needs_background": "light"
     },
     "output_type": "display_data"
    }
   ],
   "source": [
    "'''Test model accuracy on existing data'''\n",
    "\n",
    "# Load test data\n",
    "test_start = '01/01/2020'\n",
    "\n",
    "today = dt.date.today()\n",
    "today_proper = today.strftime(\"%d/%m/%Y\")\n",
    "test_end = today_proper\n",
    "\n",
    "test_data = ipy.get_crypto_historical_data(crypto=company,\n",
    "                                      from_date=test_start,\n",
    "                                      to_date=test_end)\n",
    "\n",
    "# If you utilize test/train/split then X_test will function as t\n",
    "actual_prices = test_data['Close'].values\n",
    "\n",
    "total_dataset = pd.concat((data['Close'], test_data['Close']))\n",
    "\n",
    "model_inputs = total_dataset[len(total_dataset) - len(test_data) - prediction_days:].values\n",
    "model_inputs = model_inputs.reshape(-1, 1)\n",
    "model_inputs = scaler.transform(model_inputs)\n",
    "\n",
    "'''Make predictions on test data'''\n",
    "\n",
    "X_test = []\n",
    "\n",
    "for x in range(prediction_days, len(model_inputs)):\n",
    "    \n",
    "    X_test.append(model_inputs[x - prediction_days:x, 0])\n",
    "    \n",
    "X_test = np.array(X_test)\n",
    "X_test = np.reshape(X_test, (X_test.shape[0], X_test.shape[1], 1))\n",
    "\n",
    "predicted_prices = model.predict(X_test)\n",
    "predicted_prices = scaler.inverse_transform(predicted_prices)\n",
    "\n",
    "# Plot the test predictions\n",
    "plt.plot(actual_prices, color='black', label=f'Actual {company} price')\n",
    "plt.plot(predicted_prices, color='green', label=f'Predicted {company} price')\n",
    "plt.title(f'{company} Share Price')\n",
    "plt.xlabel('Time')\n",
    "plt.ylabel(f'{company} Share Price')\n",
    "plt.legend()\n",
    "plt.show()"
   ]
  },
  {
   "cell_type": "code",
   "execution_count": 29,
   "metadata": {},
   "outputs": [
    {
     "name": "stdout",
     "output_type": "stream",
     "text": [
      "WARNING:tensorflow:Model was constructed with shape (None, 12, 1) for input KerasTensor(type_spec=TensorSpec(shape=(None, 12, 1), dtype=tf.float32, name='lstm_12_input'), name='lstm_12_input', description=\"created by layer 'lstm_12_input'\"), but it was called on an input with incompatible shape (None, 11, 1).\n",
      "Prediction: [[24102.82]]\n"
     ]
    }
   ],
   "source": [
    "# Predict Next Day\n",
    "real_data = [model_inputs[len(model_inputs) + 1 - prediction_days:len(model_inputs + 1), 0]]\n",
    "real_data = np.array(real_data)\n",
    "real_data = np.reshape(real_data, (real_data.shape[0], real_data.shape[1], 1))\n",
    "\n",
    "prediction = model.predict(real_data)\n",
    "prediction = scaler.inverse_transform(prediction)\n",
    "print(f'Prediction: {prediction}')"
   ]
  },
  {
   "cell_type": "markdown",
   "metadata": {},
   "source": [
    "# TS @ 60\n",
    "WARNING:tensorflow:Model was constructed with shape (None, 60, 1) for input KerasTensor(type_spec=TensorSpec(shape=(None, 60, 1), dtype=tf.float32, name='lstm_3_input'), name='lstm_3_input', description=\"created by layer 'lstm_3_input'\"), but it was called on an input with incompatible shape (None, 59, 1).  \n",
    "Prediction: [[27324.047]]\n",
    "\n",
    "# TS @ 120\n",
    "WARNING:tensorflow:Model was constructed with shape (None, 180, 1) for input KerasTensor(type_spec=TensorSpec(shape=(None, 180, 1), dtype=tf.float32, name='lstm_6_input'), name='lstm_6_input', description=\"created by layer 'lstm_6_input'\"), but it was called on an input with incompatible shape (None, 179, 1).  \n",
    "Prediction: [[26701.621]]\n",
    "\n",
    "# TS @ 30\n",
    "WARNING:tensorflow:Model was constructed with shape (None, 30, 1) for input KerasTensor(type_spec=TensorSpec(shape=(None, 30, 1), dtype=tf.float32, name='lstm_9_input'), name='lstm_9_input', description=\"created by layer 'lstm_9_input'\"), but it was called on an input with incompatible shape (None, 29, 1).      \n",
    "Prediction: [[28587.81]]  \n",
    "\n",
    "# TS @ 12  \n",
    "WARNING:tensorflow:Model was constructed with shape (None, 12, 1) for input KerasTensor(type_spec=TensorSpec(shape=(None, 12, 1), dtype=tf.float32, name='lstm_12_input'), name='lstm_12_input', description=\"created by layer 'lstm_12_input'\"), but it was called on an input with incompatible shape (None, 11, 1).   \n",
    "Prediction: [[24102.82]]\n"
   ]
  }
 ],
 "metadata": {
  "kernelspec": {
   "display_name": "Python 3",
   "language": "python",
   "name": "python3"
  },
  "language_info": {
   "codemirror_mode": {
    "name": "ipython",
    "version": 3
   },
   "file_extension": ".py",
   "mimetype": "text/x-python",
   "name": "python",
   "nbconvert_exporter": "python",
   "pygments_lexer": "ipython3",
   "version": "3.7.9"
  }
 },
 "nbformat": 4,
 "nbformat_minor": 4
}
