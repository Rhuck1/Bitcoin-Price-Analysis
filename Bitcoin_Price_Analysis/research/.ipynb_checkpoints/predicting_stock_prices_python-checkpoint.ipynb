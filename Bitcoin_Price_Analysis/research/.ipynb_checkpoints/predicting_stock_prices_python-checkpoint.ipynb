{
 "cells": [
  {
   "cell_type": "markdown",
   "metadata": {},
   "source": [
    "# Predicting Stock Prices in Python: Vid from Sean  \n",
    "\n",
    "https://www.youtube.com/watch?v=PuZY9q-aKLw"
   ]
  },
  {
   "cell_type": "code",
   "execution_count": 7,
   "metadata": {},
   "outputs": [],
   "source": [
    "import numpy as np\n",
    "import matplotlib.pyplot as plt\n",
    "import pandas as pd\n",
    "import pandas_datareader as web\n",
    "import datetime as dt\n",
    "import investpy as ipy\n",
    "\n",
    "from sklearn.preprocessing import MinMaxScaler\n",
    "from tensorflow.keras.models import Sequential\n",
    "from tensorflow.keras.layers import Dense, Dropout, LSTM"
   ]
  },
  {
   "cell_type": "code",
   "execution_count": 9,
   "metadata": {},
   "outputs": [],
   "source": [
    "company = 'FB'\n",
    "\n",
    "start = '01/01/2012'\n",
    "end = '01/01/2020'\n",
    "\n",
    "# data = web.DataReader(company, 'yahoo', start, end)\n",
    "data = ipy.get_stock_historical_data(stock=company,\n",
    "                                          country='United States',\n",
    "                                          from_date=start,\n",
    "                                          to_date=end)"
   ]
  },
  {
   "cell_type": "code",
   "execution_count": 10,
   "metadata": {
    "collapsed": true,
    "jupyter": {
     "outputs_hidden": true
    }
   },
   "outputs": [
    {
     "data": {
      "text/html": [
       "<div>\n",
       "<style scoped>\n",
       "    .dataframe tbody tr th:only-of-type {\n",
       "        vertical-align: middle;\n",
       "    }\n",
       "\n",
       "    .dataframe tbody tr th {\n",
       "        vertical-align: top;\n",
       "    }\n",
       "\n",
       "    .dataframe thead th {\n",
       "        text-align: right;\n",
       "    }\n",
       "</style>\n",
       "<table border=\"1\" class=\"dataframe\">\n",
       "  <thead>\n",
       "    <tr style=\"text-align: right;\">\n",
       "      <th></th>\n",
       "      <th>Open</th>\n",
       "      <th>High</th>\n",
       "      <th>Low</th>\n",
       "      <th>Close</th>\n",
       "      <th>Volume</th>\n",
       "      <th>Currency</th>\n",
       "    </tr>\n",
       "    <tr>\n",
       "      <th>Date</th>\n",
       "      <th></th>\n",
       "      <th></th>\n",
       "      <th></th>\n",
       "      <th></th>\n",
       "      <th></th>\n",
       "      <th></th>\n",
       "    </tr>\n",
       "  </thead>\n",
       "  <tbody>\n",
       "    <tr>\n",
       "      <th>2012-05-18</th>\n",
       "      <td>42.05</td>\n",
       "      <td>45.00</td>\n",
       "      <td>38.00</td>\n",
       "      <td>38.23</td>\n",
       "      <td>580587712</td>\n",
       "      <td>USD</td>\n",
       "    </tr>\n",
       "    <tr>\n",
       "      <th>2012-05-21</th>\n",
       "      <td>36.53</td>\n",
       "      <td>36.66</td>\n",
       "      <td>33.00</td>\n",
       "      <td>34.03</td>\n",
       "      <td>168309824</td>\n",
       "      <td>USD</td>\n",
       "    </tr>\n",
       "    <tr>\n",
       "      <th>2012-05-22</th>\n",
       "      <td>32.61</td>\n",
       "      <td>33.59</td>\n",
       "      <td>30.94</td>\n",
       "      <td>31.00</td>\n",
       "      <td>102053824</td>\n",
       "      <td>USD</td>\n",
       "    </tr>\n",
       "    <tr>\n",
       "      <th>2012-05-23</th>\n",
       "      <td>31.37</td>\n",
       "      <td>32.50</td>\n",
       "      <td>31.36</td>\n",
       "      <td>32.00</td>\n",
       "      <td>73721136</td>\n",
       "      <td>USD</td>\n",
       "    </tr>\n",
       "    <tr>\n",
       "      <th>2012-05-24</th>\n",
       "      <td>32.95</td>\n",
       "      <td>33.21</td>\n",
       "      <td>31.77</td>\n",
       "      <td>33.03</td>\n",
       "      <td>50275880</td>\n",
       "      <td>USD</td>\n",
       "    </tr>\n",
       "  </tbody>\n",
       "</table>\n",
       "</div>"
      ],
      "text/plain": [
       "             Open   High    Low  Close     Volume Currency\n",
       "Date                                                      \n",
       "2012-05-18  42.05  45.00  38.00  38.23  580587712      USD\n",
       "2012-05-21  36.53  36.66  33.00  34.03  168309824      USD\n",
       "2012-05-22  32.61  33.59  30.94  31.00  102053824      USD\n",
       "2012-05-23  31.37  32.50  31.36  32.00   73721136      USD\n",
       "2012-05-24  32.95  33.21  31.77  33.03   50275880      USD"
      ]
     },
     "execution_count": 10,
     "metadata": {},
     "output_type": "execute_result"
    }
   ],
   "source": [
    "data.head()"
   ]
  },
  {
   "cell_type": "code",
   "execution_count": 13,
   "metadata": {},
   "outputs": [],
   "source": [
    "scaler = MinMaxScaler(feature_range=(0, 1))\n",
    "scaled_data = scaler.fit_transform(data['Close'].values.reshape(-1, 1))\n",
    "\n",
    "prediction_days = 60\n",
    "\n",
    "X_train = []\n",
    "y_train = []\n",
    "\n",
    "for x in range(prediction_days, len(scaled_data)):\n",
    "    \n",
    "    X_train.append(scaled_data[x - prediction_days: x, 0])\n",
    "    y_train.append(scaled_data[x, 0])\n",
    "    \n",
    "X_train, y_train = np.array(X_train), np.array(y_train)\n",
    "X_train = np.reshape(X_train, (X_train.shape[0], X_train.shape[1], 1))"
   ]
  },
  {
   "cell_type": "code",
   "execution_count": 21,
   "metadata": {},
   "outputs": [
    {
     "name": "stdout",
     "output_type": "stream",
     "text": [
      "Epoch 1/20\n",
      "59/59 [==============================] - 6s 44ms/step - loss: 0.0263\n",
      "Epoch 2/20\n",
      "59/59 [==============================] - 3s 44ms/step - loss: 0.0044\n",
      "Epoch 3/20\n",
      "59/59 [==============================] - 3s 46ms/step - loss: 0.0038\n",
      "Epoch 4/20\n",
      "59/59 [==============================] - 2s 39ms/step - loss: 0.0036\n",
      "Epoch 5/20\n",
      "59/59 [==============================] - 2s 37ms/step - loss: 0.0032\n",
      "Epoch 6/20\n",
      "59/59 [==============================] - 2s 36ms/step - loss: 0.0032\n",
      "Epoch 7/20\n",
      "59/59 [==============================] - 2s 36ms/step - loss: 0.0031\n",
      "Epoch 8/20\n",
      "59/59 [==============================] - 2s 36ms/step - loss: 0.0029\n",
      "Epoch 9/20\n",
      "59/59 [==============================] - 2s 37ms/step - loss: 0.0028\n",
      "Epoch 10/20\n",
      "59/59 [==============================] - 2s 37ms/step - loss: 0.0030\n",
      "Epoch 11/20\n",
      "59/59 [==============================] - 2s 36ms/step - loss: 0.0026\n",
      "Epoch 12/20\n",
      "59/59 [==============================] - 2s 38ms/step - loss: 0.0027\n",
      "Epoch 13/20\n",
      "59/59 [==============================] - 2s 38ms/step - loss: 0.0026\n",
      "Epoch 14/20\n",
      "59/59 [==============================] - 2s 38ms/step - loss: 0.0025\n",
      "Epoch 15/20\n",
      "59/59 [==============================] - 2s 38ms/step - loss: 0.0026\n",
      "Epoch 16/20\n",
      "59/59 [==============================] - 2s 37ms/step - loss: 0.0024\n",
      "Epoch 17/20\n",
      "59/59 [==============================] - 2s 38ms/step - loss: 0.0023\n",
      "Epoch 18/20\n",
      "59/59 [==============================] - 2s 38ms/step - loss: 0.0023\n",
      "Epoch 19/20\n",
      "59/59 [==============================] - 2s 38ms/step - loss: 0.0025\n",
      "Epoch 20/20\n",
      "59/59 [==============================] - 2s 38ms/step - loss: 0.0021\n"
     ]
    },
    {
     "data": {
      "text/plain": [
       "<tensorflow.python.keras.callbacks.History at 0x7f804a0c9990>"
      ]
     },
     "execution_count": 21,
     "metadata": {},
     "output_type": "execute_result"
    }
   ],
   "source": [
    "model = Sequential()\n",
    "\n",
    "model.add(LSTM(units=50, return_sequences=True, input_shape=(X_train.shape[1], 1)))\n",
    "model.add(Dropout(0.2))\n",
    "\n",
    "model.add(LSTM(units=50, return_sequences=True))\n",
    "model.add(Dropout(0.2))\n",
    "\n",
    "model.add(LSTM(units=50))\n",
    "model.add(Dropout(0.2))\n",
    "\n",
    "model.add(Dense(units=1)) # Prediction of the next closing value\n",
    "\n",
    "model.compile(optimizer='adam', loss='mean_squared_error')\n",
    "model.fit(X_train, y_train, epochs=20, batch_size=32)\n",
    "\n",
    "# modelscores = model.evaluate(X, Y, verbose=0)\n",
    "# print(\"%s: %.2f%%\" % (model.metrics_names[1], scores[1]*100))"
   ]
  },
  {
   "cell_type": "code",
   "execution_count": 20,
   "metadata": {},
   "outputs": [],
   "source": [
    "'''Test model accuracy on existing data'''\n",
    "\n",
    "# Load test data\n",
    "test_start = '01/01/2020'\n",
    "\n",
    "today = dt.date.today()\n",
    "today_proper = today.strftime(\"%d/%m/%Y\")\n",
    "test_end = today_proper\n",
    "\n",
    "test_data = ipy.get_stock_historical_data(stock=company,\n",
    "                              country='United States',\n",
    "                              from_date=test_start,\n",
    "                              to_date=test_end)\n",
    "\n",
    "# If you utilize test/train/split then X_test will function as t\n",
    "actual_prices = test_data['Close'].values\n",
    "\n",
    "total_dataset = pd.concat((data['Close'], test_data['Close']))\n",
    "\n",
    "model_inputs = total_dataset[len(total_dataset) - len(test_data) - prediction_days:].values\n",
    "model_inputs = model_inputs.reshape(-1, 1)\n",
    "model_inputs = scaler.transform(model_inputs)"
   ]
  },
  {
   "cell_type": "code",
   "execution_count": 23,
   "metadata": {},
   "outputs": [
    {
     "data": {
      "image/png": "[encoded data removed]",
      "text/plain": [
       "<Figure size 432x288 with 1 Axes>"
      ]
     },
     "metadata": {
      "needs_background": "light"
     },
     "output_type": "display_data"
    }
   ],
   "source": [
    "'''Make predictions on test data'''\n",
    "\n",
    "X_test = []\n",
    "\n",
    "for x in range(prediction_days, len(model_inputs)):\n",
    "    \n",
    "    X_test.append(model_inputs[x - prediction_days:x, 0])\n",
    "    \n",
    "X_test = np.array(X_test)\n",
    "X_test = np.reshape(X_test, (X_test.shape[0], X_test.shape[1], 1))\n",
    "\n",
    "predicted_prices = model.predict(X_test)\n",
    "predicted_prices = scaler.inverse_transform(predicted_prices)\n",
    "\n",
    "# Plot the test predictions\n",
    "plt.plot(actual_prices, color='black', label=f'Actual {company} price')\n",
    "plt.plot(predicted_prices, color='green', label=f'Predicted {company} price')\n",
    "plt.title(f'{company} Share Price')\n",
    "plt.xlabel('Time')\n",
    "plt.ylabel(f'{company} Share Price')\n",
    "plt.legend()\n",
    "plt.show()"
   ]
  },
  {
   "cell_type": "code",
   "execution_count": null,
   "metadata": {},
   "outputs": [],
   "source": [
    "# Predict Next DAy\n",
    "\n",
    "real_data = [model_inputs]"
   ]
  },
  {
   "cell_type": "code",
   "execution_count": null,
   "metadata": {},
   "outputs": [],
   "source": []
  },
  {
   "cell_type": "code",
   "execution_count": null,
   "metadata": {},
   "outputs": [],
   "source": []
  },
  {
   "cell_type": "markdown",
   "metadata": {},
   "source": [
    "# BITCOIN DIRTY"
   ]
  },
  {
   "cell_type": "code",
   "execution_count": 24,
   "metadata": {},
   "outputs": [],
   "source": [
    "# Load Data\n",
    "company = 'bitcoin'\n",
    "\n",
    "start = '01/01/2010'\n",
    "end = '01/01/2020'\n",
    "\n",
    "# data = web.DataReader(company, 'yahoo', start, end)\n",
    "data = ipy.get_crypto_historical_data(crypto=company,\n",
    "                                      from_date=start,\n",
    "                                      to_date=end)\n",
    "\n",
    "# Scale data\n",
    "scaler = MinMaxScaler(feature_range=(0, 1))\n",
    "scaled_data = scaler.fit_transform(data['Close'].values.reshape(-1, 1))\n",
    "\n",
    "prediction_days = 60\n",
    "\n",
    "X_train = []\n",
    "y_train = []\n",
    "\n",
    "for x in range(prediction_days, len(scaled_data)):\n",
    "    \n",
    "    X_train.append(scaled_data[x - prediction_days: x, 0])\n",
    "    y_train.append(scaled_data[x, 0])\n",
    "    \n",
    "X_train, y_train = np.array(X_train), np.array(y_train)\n",
    "X_train = np.reshape(X_train, (X_train.shape[0], X_train.shape[1], 1))"
   ]
  },
  {
   "cell_type": "code",
   "execution_count": 25,
   "metadata": {},
   "outputs": [
    {
     "name": "stdout",
     "output_type": "stream",
     "text": [
      "Epoch 1/20\n",
      "107/107 [==============================] - 7s 39ms/step - loss: 0.0031\n",
      "Epoch 2/20\n",
      "107/107 [==============================] - 4s 39ms/step - loss: 0.0013\n",
      "Epoch 3/20\n",
      "107/107 [==============================] - 4s 39ms/step - loss: 0.0012\n",
      "Epoch 4/20\n",
      "107/107 [==============================] - 4s 39ms/step - loss: 0.0010\n",
      "Epoch 5/20\n",
      "107/107 [==============================] - 4s 38ms/step - loss: 0.0010\n",
      "Epoch 6/20\n",
      "107/107 [==============================] - 4s 39ms/step - loss: 9.3916e-04\n",
      "Epoch 7/20\n",
      "107/107 [==============================] - 4s 39ms/step - loss: 8.0872e-04\n",
      "Epoch 8/20\n",
      "107/107 [==============================] - 4s 39ms/step - loss: 9.6361e-04\n",
      "Epoch 9/20\n",
      "107/107 [==============================] - 5s 43ms/step - loss: 8.3648e-04\n",
      "Epoch 10/20\n",
      "107/107 [==============================] - 5s 45ms/step - loss: 7.6363e-04\n",
      "Epoch 11/20\n",
      "107/107 [==============================] - 5s 51ms/step - loss: 7.2209e-04\n",
      "Epoch 12/20\n",
      "107/107 [==============================] - 5s 44ms/step - loss: 7.2952e-04\n",
      "Epoch 13/20\n",
      "107/107 [==============================] - 5s 50ms/step - loss: 6.6730e-04\n",
      "Epoch 14/20\n",
      "107/107 [==============================] - 5s 45ms/step - loss: 7.5828e-04\n",
      "Epoch 15/20\n",
      "107/107 [==============================] - 5s 49ms/step - loss: 6.9558e-04\n",
      "Epoch 16/20\n",
      "107/107 [==============================] - 5s 47ms/step - loss: 7.0295e-04\n",
      "Epoch 17/20\n",
      "107/107 [==============================] - 5s 46ms/step - loss: 6.7743e-04\n",
      "Epoch 18/20\n",
      "107/107 [==============================] - 5s 45ms/step - loss: 6.5780e-04\n",
      "Epoch 19/20\n",
      "107/107 [==============================] - 4s 39ms/step - loss: 6.2400e-04\n",
      "Epoch 20/20\n",
      "107/107 [==============================] - 4s 39ms/step - loss: 6.3811e-04\n"
     ]
    },
    {
     "data": {
      "text/plain": [
       "<tensorflow.python.keras.callbacks.History at 0x7f802031d190>"
      ]
     },
     "execution_count": 25,
     "metadata": {},
     "output_type": "execute_result"
    }
   ],
   "source": [
    "# Train Model\n",
    "model = Sequential()\n",
    "\n",
    "model.add(LSTM(units=50, return_sequences=True, input_shape=(X_train.shape[1], 1)))\n",
    "model.add(Dropout(0.2))\n",
    "\n",
    "model.add(LSTM(units=50, return_sequences=True))\n",
    "model.add(Dropout(0.2))\n",
    "\n",
    "model.add(LSTM(units=50))\n",
    "model.add(Dropout(0.2))\n",
    "\n",
    "model.add(Dense(units=1)) # Prediction of the next closing value\n",
    "\n",
    "model.compile(optimizer='adam', loss='mean_squared_error')\n",
    "model.fit(X_train, y_train, epochs=20, batch_size=32)"
   ]
  },
  {
   "cell_type": "code",
   "execution_count": 28,
   "metadata": {},
   "outputs": [
    {
     "data": {
      "image/png": "[encoded data removed]",
      "text/plain": [
       "<Figure size 432x288 with 1 Axes>"
      ]
     },
     "metadata": {
      "needs_background": "light"
     },
     "output_type": "display_data"
    }
   ],
   "source": [
    "'''Test model accuracy on existing data'''\n",
    "\n",
    "# Load test data\n",
    "test_start = '01/01/2020'\n",
    "\n",
    "today = dt.date.today()\n",
    "today_proper = today.strftime(\"%d/%m/%Y\")\n",
    "test_end = today_proper\n",
    "\n",
    "test_data = ipy.get_crypto_historical_data(crypto=company,\n",
    "                                      from_date=test_start,\n",
    "                                      to_date=test_end)\n",
    "\n",
    "# If you utilize test/train/split then X_test will function as t\n",
    "actual_prices = test_data['Close'].values\n",
    "\n",
    "total_dataset = pd.concat((data['Close'], test_data['Close']))\n",
    "\n",
    "model_inputs = total_dataset[len(total_dataset) - len(test_data) - prediction_days:].values\n",
    "model_inputs = model_inputs.reshape(-1, 1)\n",
    "model_inputs = scaler.transform(model_inputs)\n",
    "\n",
    "'''Make predictions on test data'''\n",
    "\n",
    "X_test = []\n",
    "\n",
    "for x in range(prediction_days, len(model_inputs)):\n",
    "    \n",
    "    X_test.append(model_inputs[x - prediction_days:x, 0])\n",
    "    \n",
    "X_test = np.array(X_test)\n",
    "X_test = np.reshape(X_test, (X_test.shape[0], X_test.shape[1], 1))\n",
    "\n",
    "predicted_prices = model.predict(X_test)\n",
    "predicted_prices = scaler.inverse_transform(predicted_prices)\n",
    "\n",
    "# Plot the test predictions\n",
    "plt.plot(actual_prices, color='black', label=f'Actual {company} price')\n",
    "plt.plot(predicted_prices, color='green', label=f'Predicted {company} price')\n",
    "plt.title(f'{company} Share Price')\n",
    "plt.xlabel('Time')\n",
    "plt.ylabel(f'{company} Share Price')\n",
    "plt.legend()\n",
    "plt.show()"
   ]
  }
 ],
 "metadata": {
  "kernelspec": {
   "display_name": "Python 3",
   "language": "python",
   "name": "python3"
  },
  "language_info": {
   "codemirror_mode": {
    "name": "ipython",
    "version": 3
   },
   "file_extension": ".py",
   "mimetype": "text/x-python",
   "name": "python",
   "nbconvert_exporter": "python",
   "pygments_lexer": "ipython3",
   "version": "3.7.9"
  }
 },
 "nbformat": 4,
 "nbformat_minor": 4
}
