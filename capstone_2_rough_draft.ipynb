{
 "cells": [
  {
   "cell_type": "markdown",
   "metadata": {},
   "source": [
    "### Import Examples for Quant Analysis"
   ]
  },
  {
   "cell_type": "code",
   "execution_count": null,
   "metadata": {},
   "outputs": [],
   "source": [
    "import pandas as pd\n",
    "import matplotlib.pyplot as plt\n",
    "import numpy as np\n",
    "from datetime import datetime as dt\n",
    "from sklearn.ensemble import RandomForestClassifier\n",
    "from sklearn.preprocessing import RobustScaler\n",
    "from sklearn.impute import SimpleImputer\n",
    "from sklearn.pipeline import make_pipeline\n",
    "from sklearn.metrics import accuracy_score, recall_score, precision_score, f1_score\n",
    "from sklearn.model_selection import GridSearchCV\n",
    "import lightgbm as lgb"
   ]
  },
  {
   "cell_type": "code",
   "execution_count": null,
   "metadata": {},
   "outputs": [],
   "source": []
  },
  {
   "cell_type": "code",
   "execution_count": null,
   "metadata": {},
   "outputs": [],
   "source": []
  },
  {
   "cell_type": "code",
   "execution_count": null,
   "metadata": {},
   "outputs": [],
   "source": []
  },
  {
   "cell_type": "markdown",
   "metadata": {},
   "source": [
    "### Feature Engineering Example"
   ]
  },
  {
   "cell_type": "markdown",
   "metadata": {},
   "source": [
    "But why work with returns when we already have the prices?  \n",
    "The reason is that prices are usually non-stationary, that is when statistics such as mean and variance (mathematical moments) change over time."
   ]
  },
  {
   "cell_type": "code",
   "execution_count": null,
   "metadata": {},
   "outputs": [],
   "source": [
    "# create simple and log returns, multiplied by 100 for convenience\n",
    "df['simple_rtn'] = 100 * df.adj_close.pct_change()\n",
    "df['log_rtn'] = 100 * (np.log(df.adj_close) - np.log(df.adj_close.shift(1)))"
   ]
  },
  {
   "cell_type": "markdown",
   "metadata": {},
   "source": [
    "### Importance of Data/Feature Engineering  \n",
    "\n",
    "Different types of data for different ml algos  \n",
    "* Decision Trees: split at threshold of feature, createing multiple nested 'if' statements as rules\n",
    "* Neural Network: adjusts weights fo feature and combination of features, creating a matrix for predictions  \n",
    "\n",
    "Normalize, Scale and Center Data  \n",
    "* Normalize: take from absolute to relative values  \n",
    "        * The opening price was $20 below yesterday's closing price (not normalized)  \n",
    "        Most of time use Mean: 0 and Variance: 1  \n",
    "        Other times want the variables bound between 0 and 1  \n",
    "        * The opening price was 2% bellow yesterday's closing price (normalized)  \n",
    "* Scale: adjust distribution/range of feature to a standard size (needed for NNets not DTrees)\n",
    "        * Can use quantiles to more robustly account for outliers\n",
    "* Center: adjust mean of feature to 0 (needed for NNets, not DTrees)  \n",
    "* Feature Engineering: NNets can engineer features (combine weights from different features), DTrees cannot create new features, just organize different rules based on sets of features(features dependent on each others"
   ]
  },
  {
   "cell_type": "markdown",
   "metadata": {},
   "source": [
    "### Plotly Candlestick Example"
   ]
  },
  {
   "cell_type": "code",
   "execution_count": null,
   "metadata": {},
   "outputs": [],
   "source": [
    "fig = px.line(time_outside_nat, x='date', y='Avg Time Away', title='Change in Time Outside Home')\n",
    "fig.update_xaxes(title_text='Date', nticks=16)\n",
    "fig.update_yaxes(title_text='Time Outside Home')\n",
    "fig.update_layout(plot_bgcolor='white')\n",
    "fig.show()"
   ]
  },
  {
   "cell_type": "code",
   "execution_count": null,
   "metadata": {},
   "outputs": [],
   "source": [
    "fig = go.Figure()\n",
    "fig.add_trace(go.Scatter(x=outside_view.date, y=outside_view.loc[:,'AZ Avg Time Away'], name='AZ Avg Time Away', line=dict(width=4)))\n",
    "fig.add_trace(go.Scatter(x=outside_view.date, y=outside_view.loc[:,'CO Avg Time Away'], name='CO Avg Time Away', line=dict(width=4)))\n",
    "fig.add_trace(go.Scatter(x=outside_view.date, y=outside_view.loc[:,'NAT Avg Time Away'], name='NAT Avg Time Away', line=dict(width=4)))\n",
    "\n",
    "fig.add_trace(go.Scatter(x=cov_az.date, y=(cov_az.loc[:,'new_case_rate']/500), name='AZ New Covid Case Rate', line=dict(dash='dash', color='blue')))\n",
    "fig.add_trace(go.Scatter(x=cov_co.date, y=(cov_co.loc[:,'new_case_rate']/500), name='CO New Covid Case Rate', line=dict(dash='dash', color='red')))\n",
    "fig.add_trace(go.Scatter(x=cov_nat.date, y=(cov_nat.loc[:,'new_case_rate']/500), name='NAT New Covid Case Rate', line=dict(dash='dash', color='green')))\n",
    "#fig = px.line(covid_co, x='date', y=['new_case_count','death_count'])\n",
    "\n",
    "fig.update_layout(\n",
    "        title='Change in Time Outside Home vs New Covid Case Rate',\n",
    "        xaxis=dict(showline=True, showgrid=False, showticklabels=True), \n",
    "        xaxis_title='Date',\n",
    "        yaxis_title='% Change Relative to January 2020',\n",
    "        plot_bgcolor='white')\n",
    "fig.show()"
   ]
  },
  {
   "cell_type": "code",
   "execution_count": null,
   "metadata": {},
   "outputs": [],
   "source": [
    "fig = px.line(time_outside_nat, x='date', y='Avg Time Away', title='Change in Time Outside Home')\n",
    "fig.update_xaxes(title_text='Date', nticks=16)\n",
    "fig.update_yaxes(title_text='Time Outside Home')\n",
    "fig.update_layout(plot_bgcolor='white')\n",
    "fig.show()"
   ]
  },
  {
   "cell_type": "code",
   "execution_count": null,
   "metadata": {},
   "outputs": [],
   "source": [
    "fig = px.bar(ui_pua_view, x='date', y=Pan_Unemploy_Assist, title='Pandemic Unemployment Assistance')\n",
    "fig.update_xaxes(title_text='Date', nticks=16)\n",
    "fig.update_yaxes(title_text='Initial Claims')\n",
    "fig.update_layout(plot_bgcolor='white')\n",
    "fig.show()"
   ]
  },
  {
   "cell_type": "code",
   "execution_count": null,
   "metadata": {},
   "outputs": [],
   "source": [
    "fig = px.area(consum_spend_view, x='date', y=['AZ Consumer Spending', 'CO Consumer Spending', 'National Consumer Spending'], title='Spending Differences After Covid (A.C.)', width=1400, height=500)\n",
    "\n",
    "fig.update_xaxes(title_text='Date') #labels={'x': 'Date', 'y':'Year Over Year Spending Difference'}\n",
    "fig.update_yaxes(title_text='Year Over Year Spending Difference')\n",
    "fig.update_layout(plot_bgcolor='white')\n",
    "fig.show()"
   ]
  },
  {
   "cell_type": "code",
   "execution_count": null,
   "metadata": {},
   "outputs": [],
   "source": [
    "import plotly.graph_objs as go\n",
    "\n",
    "fig = go.Figure()\n",
    "\n",
    "fig.add_trace(go.Scatter(x=df.index, y=df['Middle Band'], line=dict(color='blue', width=0.7), name='Middle Band'))\n",
    "fig.add_trace(go.Scatter(x=df.index, y=df['Upper Band'], line=dict(color='red', width=1.5), name='Upper Band (Sell)'))\n",
    "fig.add_trace(go.Scatter(x=df.index, y=df['Lower Band'], line=dict(color='green', width=1.5), name='Lower Band (Buy)'))\n",
    "\n",
    "fig.add_trace(go.Candlestick(x=df.index,\n",
    "                             open=df['Open'],\n",
    "                             high=df['High'],\n",
    "                             low=df['Low'],\n",
    "                             close=df['Close'],\n",
    "                             name='market data'))\n",
    "\n",
    "fig.update_layout(title='Bollinger Band Strategy', yaxis_title='Jacobs Engineering Stock Price (USD per Shares)')\n",
    "\n",
    "fig.update_xaxes(rangeslider_visible=True, \n",
    "                 rangeselector=dict(\n",
    "                        buttons=list([\n",
    "                                dict(count=1, label='1m', step='month', stepmode='backward'),\n",
    "                                dict(count=6, label='6m', step='month', stepmode='backward'),\n",
    "                                dict(count=1, label='YTD', step='year', stepmode='todate'),\n",
    "                                dict(count=1, label='1y', step='year', stepmode='backward'),\n",
    "                                dict(step='all')\n",
    "                                    ])\n",
    "                                    )\n",
    "                )\n",
    "\n",
    "fig.show()"
   ]
  },
  {
   "cell_type": "markdown",
   "metadata": {},
   "source": [
    "# Imports"
   ]
  },
  {
   "cell_type": "code",
   "execution_count": null,
   "metadata": {},
   "outputs": [],
   "source": [
    "import numpy as np\n",
    "import pandas as pd\n",
    "import yfinance as yf\n",
    "\n",
    "import plotly.express as px\n",
    "import plotly.graph_objs as go\n",
    "from plotly.offline import download_plotlyjs, init_notebook_mode, plot, iplot\n",
    "py.offline.init_notebook_mode(connected=True)\n",
    "\n",
    "\n"
   ]
  },
  {
   "cell_type": "code",
   "execution_count": null,
   "metadata": {},
   "outputs": [],
   "source": [
    "# How far back can we get bitcoin data?\n",
    "data = yf.download(tickers='BITCOIN SYMBOL', start= , end=)"
   ]
  },
  {
   "cell_type": "code",
   "execution_count": null,
   "metadata": {},
   "outputs": [],
   "source": []
  },
  {
   "cell_type": "code",
   "execution_count": null,
   "metadata": {},
   "outputs": [],
   "source": []
  },
  {
   "cell_type": "markdown",
   "metadata": {},
   "source": [
    "# EDA"
   ]
  },
  {
   "cell_type": "code",
   "execution_count": null,
   "metadata": {},
   "outputs": [],
   "source": []
  },
  {
   "cell_type": "code",
   "execution_count": null,
   "metadata": {},
   "outputs": [],
   "source": []
  },
  {
   "cell_type": "markdown",
   "metadata": {},
   "source": [
    "# Baseline Model"
   ]
  },
  {
   "cell_type": "code",
   "execution_count": null,
   "metadata": {},
   "outputs": [],
   "source": []
  },
  {
   "cell_type": "markdown",
   "metadata": {},
   "source": [
    "# Time Series Analysis"
   ]
  },
  {
   "cell_type": "code",
   "execution_count": null,
   "metadata": {},
   "outputs": [],
   "source": []
  },
  {
   "cell_type": "markdown",
   "metadata": {},
   "source": [
    "# ARIMA"
   ]
  },
  {
   "cell_type": "code",
   "execution_count": null,
   "metadata": {},
   "outputs": [],
   "source": []
  },
  {
   "cell_type": "markdown",
   "metadata": {},
   "source": [
    "# Regularized Regression"
   ]
  },
  {
   "cell_type": "code",
   "execution_count": null,
   "metadata": {},
   "outputs": [],
   "source": []
  },
  {
   "cell_type": "markdown",
   "metadata": {},
   "source": [
    "# Logistic Regression"
   ]
  },
  {
   "cell_type": "code",
   "execution_count": null,
   "metadata": {},
   "outputs": [],
   "source": []
  },
  {
   "cell_type": "markdown",
   "metadata": {},
   "source": [
    "# Decision Tree"
   ]
  },
  {
   "cell_type": "code",
   "execution_count": null,
   "metadata": {},
   "outputs": [],
   "source": []
  },
  {
   "cell_type": "markdown",
   "metadata": {},
   "source": [
    "# Random Forest"
   ]
  },
  {
   "cell_type": "code",
   "execution_count": null,
   "metadata": {},
   "outputs": [],
   "source": []
  },
  {
   "cell_type": "markdown",
   "metadata": {},
   "source": [
    "# Random Forest Boosted"
   ]
  },
  {
   "cell_type": "code",
   "execution_count": null,
   "metadata": {},
   "outputs": [],
   "source": []
  },
  {
   "cell_type": "markdown",
   "metadata": {},
   "source": [
    "# LSTM"
   ]
  },
  {
   "cell_type": "code",
   "execution_count": null,
   "metadata": {},
   "outputs": [],
   "source": []
  },
  {
   "cell_type": "markdown",
   "metadata": {},
   "source": [
    "# Fast Fourier"
   ]
  },
  {
   "cell_type": "code",
   "execution_count": null,
   "metadata": {},
   "outputs": [],
   "source": []
  },
  {
   "cell_type": "markdown",
   "metadata": {},
   "source": [
    "# Transformer"
   ]
  },
  {
   "cell_type": "code",
   "execution_count": null,
   "metadata": {},
   "outputs": [],
   "source": []
  },
  {
   "cell_type": "code",
   "execution_count": null,
   "metadata": {},
   "outputs": [],
   "source": []
  },
  {
   "cell_type": "code",
   "execution_count": null,
   "metadata": {},
   "outputs": [],
   "source": []
  },
  {
   "cell_type": "code",
   "execution_count": null,
   "metadata": {},
   "outputs": [],
   "source": []
  },
  {
   "cell_type": "code",
   "execution_count": null,
   "metadata": {},
   "outputs": [],
   "source": []
  },
  {
   "cell_type": "code",
   "execution_count": null,
   "metadata": {},
   "outputs": [],
   "source": []
  }
 ],
 "metadata": {
  "kernelspec": {
   "display_name": "Python 3",
   "language": "python",
   "name": "python3"
  },
  "language_info": {
   "codemirror_mode": {
    "name": "ipython",
    "version": 3
   },
   "file_extension": ".py",
   "mimetype": "text/x-python",
   "name": "python",
   "nbconvert_exporter": "python",
   "pygments_lexer": "ipython3",
   "version": "3.7.9"
  }
 },
 "nbformat": 4,
 "nbformat_minor": 4
}
