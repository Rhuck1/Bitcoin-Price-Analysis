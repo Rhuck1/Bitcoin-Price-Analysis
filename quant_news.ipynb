{
 "cells": [
  {
   "cell_type": "markdown",
   "metadata": {},
   "source": [
    "### Importance of Data/Feature Engineering  \n",
    "\n",
    "Different types of data for different ml algos  \n",
    "* Decision Trees: split at threshold of feature, createing multiple nested 'if' statements as rules\n",
    "* Neural Network: adjusts weights fo feature and combination of features, creating a matrix for predictions  \n",
    "\n",
    "Normalize, Scale and Center Data  \n",
    "* Normalize: take from absolute to relative values  \n",
    "        * The opening price was $20 below yesterday's closing price (not normalized)  \n",
    "        Most of time use Mean: 0 and Variance: 1  \n",
    "        Other times want the variables bound between 0 and 1  \n",
    "        * The opening price was 2% bellow yesterday's closing price (normalized)  \n",
    "* Scale: adjust distribution/range of feature to a standard size (needed for NNets not DTrees)\n",
    "        * Can use quantiles to more robustly account for outliers\n",
    "* Center: adjust mean of feature to 0 (needed for NNets, not DTrees)  \n",
    "* Feature Engineering: NNets can engineer features (combine weights from different features), DTrees cannot create new features, just organize different rules based on sets of features(features dependent on each others"
   ]
  },
  {
   "cell_type": "code",
   "execution_count": 2,
   "metadata": {},
   "outputs": [],
   "source": [
    "import pandas as pd\n",
    "import matplotlib.pyplot as plt\n",
    "import numpy as np\n",
    "from datetime import datetime as dt\n",
    "from sklearn.ensemble import RandomForestClassifier\n",
    "from sklearn.preprocessing import RobustScaler\n",
    "from sklearn.impute import SimpleImputer\n",
    "from sklearn.pipeline import make_pipeline\n",
    "from sklearn.metrics import accuracy_score, recall_score, precision_score, f1_score\n",
    "from sklearn.model_selection import GridSearchCV\n",
    "import lightgbm as lgb\n",
    "\n",
    "# from sklearn.impute import SimpleImputer\n",
    "# imputer = SimpleImputer(missing_values=np.nan, strategy='mean')"
   ]
  },
  {
   "cell_type": "code",
   "execution_count": null,
   "metadata": {},
   "outputs": [],
   "source": [
    "df "
   ]
  },
  {
   "cell_type": "code",
   "execution_count": null,
   "metadata": {},
   "outputs": [],
   "source": []
  },
  {
   "cell_type": "code",
   "execution_count": null,
   "metadata": {},
   "outputs": [],
   "source": []
  },
  {
   "cell_type": "code",
   "execution_count": null,
   "metadata": {},
   "outputs": [],
   "source": []
  }
 ],
 "metadata": {
  "kernelspec": {
   "display_name": "Python 3",
   "language": "python",
   "name": "python3"
  },
  "language_info": {
   "codemirror_mode": {
    "name": "ipython",
    "version": 3
   },
   "file_extension": ".py",
   "mimetype": "text/x-python",
   "name": "python",
   "nbconvert_exporter": "python",
   "pygments_lexer": "ipython3",
   "version": "3.7.9"
  }
 },
 "nbformat": 4,
 "nbformat_minor": 4
}
