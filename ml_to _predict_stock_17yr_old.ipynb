{
 "cells": [
  {
   "cell_type": "markdown",
   "metadata": {},
   "source": [
    "## Machine Learning to Predict Stock Prices  \n",
    "\n",
    "https://towardsdatascience.com/predicting-stock-prices-using-a-keras-lstm-model-4225457f0233"
   ]
  },
  {
   "cell_type": "code",
   "execution_count": 1,
   "metadata": {},
   "outputs": [],
   "source": [
    "import numpy as np\n",
    "import pandas as pd\n",
    "import matplotlib.pyplot as plt"
   ]
  },
  {
   "cell_type": "code",
   "execution_count": 2,
   "metadata": {},
   "outputs": [],
   "source": [
    "url = 'https://raw.githubusercontent.com/mwitiderrick/stockprice/master/NSE-TATAGLOBAL.csv'\n",
    "dataset_train = pd.read_csv(url)\n",
    "training_set = dataset_train.iloc[:, 1:2].values"
   ]
  },
  {
   "cell_type": "code",
   "execution_count": 3,
   "metadata": {},
   "outputs": [
    {
     "data": {
      "text/html": [
       "<div>\n",
       "<style scoped>\n",
       "    .dataframe tbody tr th:only-of-type {\n",
       "        vertical-align: middle;\n",
       "    }\n",
       "\n",
       "    .dataframe tbody tr th {\n",
       "        vertical-align: top;\n",
       "    }\n",
       "\n",
       "    .dataframe thead th {\n",
       "        text-align: right;\n",
       "    }\n",
       "</style>\n",
       "<table border=\"1\" class=\"dataframe\">\n",
       "  <thead>\n",
       "    <tr style=\"text-align: right;\">\n",
       "      <th></th>\n",
       "      <th>Date</th>\n",
       "      <th>Open</th>\n",
       "      <th>High</th>\n",
       "      <th>Low</th>\n",
       "      <th>Last</th>\n",
       "      <th>Close</th>\n",
       "      <th>Total Trade Quantity</th>\n",
       "      <th>Turnover (Lacs)</th>\n",
       "    </tr>\n",
       "  </thead>\n",
       "  <tbody>\n",
       "    <tr>\n",
       "      <th>0</th>\n",
       "      <td>2018-09-28</td>\n",
       "      <td>234.05</td>\n",
       "      <td>235.95</td>\n",
       "      <td>230.20</td>\n",
       "      <td>233.50</td>\n",
       "      <td>233.75</td>\n",
       "      <td>3069914</td>\n",
       "      <td>7162.35</td>\n",
       "    </tr>\n",
       "    <tr>\n",
       "      <th>1</th>\n",
       "      <td>2018-09-27</td>\n",
       "      <td>234.55</td>\n",
       "      <td>236.80</td>\n",
       "      <td>231.10</td>\n",
       "      <td>233.80</td>\n",
       "      <td>233.25</td>\n",
       "      <td>5082859</td>\n",
       "      <td>11859.95</td>\n",
       "    </tr>\n",
       "    <tr>\n",
       "      <th>2</th>\n",
       "      <td>2018-09-26</td>\n",
       "      <td>240.00</td>\n",
       "      <td>240.00</td>\n",
       "      <td>232.50</td>\n",
       "      <td>235.00</td>\n",
       "      <td>234.25</td>\n",
       "      <td>2240909</td>\n",
       "      <td>5248.60</td>\n",
       "    </tr>\n",
       "    <tr>\n",
       "      <th>3</th>\n",
       "      <td>2018-09-25</td>\n",
       "      <td>233.30</td>\n",
       "      <td>236.75</td>\n",
       "      <td>232.00</td>\n",
       "      <td>236.25</td>\n",
       "      <td>236.10</td>\n",
       "      <td>2349368</td>\n",
       "      <td>5503.90</td>\n",
       "    </tr>\n",
       "    <tr>\n",
       "      <th>4</th>\n",
       "      <td>2018-09-24</td>\n",
       "      <td>233.55</td>\n",
       "      <td>239.20</td>\n",
       "      <td>230.75</td>\n",
       "      <td>234.00</td>\n",
       "      <td>233.30</td>\n",
       "      <td>3423509</td>\n",
       "      <td>7999.55</td>\n",
       "    </tr>\n",
       "    <tr>\n",
       "      <th>...</th>\n",
       "      <td>...</td>\n",
       "      <td>...</td>\n",
       "      <td>...</td>\n",
       "      <td>...</td>\n",
       "      <td>...</td>\n",
       "      <td>...</td>\n",
       "      <td>...</td>\n",
       "      <td>...</td>\n",
       "    </tr>\n",
       "    <tr>\n",
       "      <th>2030</th>\n",
       "      <td>2010-07-27</td>\n",
       "      <td>117.60</td>\n",
       "      <td>119.50</td>\n",
       "      <td>112.00</td>\n",
       "      <td>118.80</td>\n",
       "      <td>118.65</td>\n",
       "      <td>586100</td>\n",
       "      <td>694.98</td>\n",
       "    </tr>\n",
       "    <tr>\n",
       "      <th>2031</th>\n",
       "      <td>2010-07-26</td>\n",
       "      <td>120.10</td>\n",
       "      <td>121.00</td>\n",
       "      <td>117.10</td>\n",
       "      <td>117.10</td>\n",
       "      <td>117.60</td>\n",
       "      <td>658440</td>\n",
       "      <td>780.01</td>\n",
       "    </tr>\n",
       "    <tr>\n",
       "      <th>2032</th>\n",
       "      <td>2010-07-23</td>\n",
       "      <td>121.80</td>\n",
       "      <td>121.95</td>\n",
       "      <td>120.25</td>\n",
       "      <td>120.35</td>\n",
       "      <td>120.65</td>\n",
       "      <td>281312</td>\n",
       "      <td>340.31</td>\n",
       "    </tr>\n",
       "    <tr>\n",
       "      <th>2033</th>\n",
       "      <td>2010-07-22</td>\n",
       "      <td>120.30</td>\n",
       "      <td>122.00</td>\n",
       "      <td>120.25</td>\n",
       "      <td>120.75</td>\n",
       "      <td>120.90</td>\n",
       "      <td>293312</td>\n",
       "      <td>355.17</td>\n",
       "    </tr>\n",
       "    <tr>\n",
       "      <th>2034</th>\n",
       "      <td>2010-07-21</td>\n",
       "      <td>122.10</td>\n",
       "      <td>123.00</td>\n",
       "      <td>121.05</td>\n",
       "      <td>121.10</td>\n",
       "      <td>121.55</td>\n",
       "      <td>658666</td>\n",
       "      <td>803.56</td>\n",
       "    </tr>\n",
       "  </tbody>\n",
       "</table>\n",
       "<p>2035 rows × 8 columns</p>\n",
       "</div>"
      ],
      "text/plain": [
       "            Date    Open    High     Low    Last   Close  \\\n",
       "0     2018-09-28  234.05  235.95  230.20  233.50  233.75   \n",
       "1     2018-09-27  234.55  236.80  231.10  233.80  233.25   \n",
       "2     2018-09-26  240.00  240.00  232.50  235.00  234.25   \n",
       "3     2018-09-25  233.30  236.75  232.00  236.25  236.10   \n",
       "4     2018-09-24  233.55  239.20  230.75  234.00  233.30   \n",
       "...          ...     ...     ...     ...     ...     ...   \n",
       "2030  2010-07-27  117.60  119.50  112.00  118.80  118.65   \n",
       "2031  2010-07-26  120.10  121.00  117.10  117.10  117.60   \n",
       "2032  2010-07-23  121.80  121.95  120.25  120.35  120.65   \n",
       "2033  2010-07-22  120.30  122.00  120.25  120.75  120.90   \n",
       "2034  2010-07-21  122.10  123.00  121.05  121.10  121.55   \n",
       "\n",
       "      Total Trade Quantity  Turnover (Lacs)  \n",
       "0                  3069914          7162.35  \n",
       "1                  5082859         11859.95  \n",
       "2                  2240909          5248.60  \n",
       "3                  2349368          5503.90  \n",
       "4                  3423509          7999.55  \n",
       "...                    ...              ...  \n",
       "2030                586100           694.98  \n",
       "2031                658440           780.01  \n",
       "2032                281312           340.31  \n",
       "2033                293312           355.17  \n",
       "2034                658666           803.56  \n",
       "\n",
       "[2035 rows x 8 columns]"
      ]
     },
     "execution_count": 3,
     "metadata": {},
     "output_type": "execute_result"
    }
   ],
   "source": [
    "dataset_train"
   ]
  },
  {
   "cell_type": "code",
   "execution_count": 4,
   "metadata": {},
   "outputs": [
    {
     "data": {
      "text/plain": [
       "array([[234.05],\n",
       "       [234.55],\n",
       "       [240.  ],\n",
       "       ...,\n",
       "       [121.8 ],\n",
       "       [120.3 ],\n",
       "       [122.1 ]])"
      ]
     },
     "execution_count": 4,
     "metadata": {},
     "output_type": "execute_result"
    }
   ],
   "source": [
    "training_set"
   ]
  },
  {
   "cell_type": "markdown",
   "metadata": {},
   "source": [
    "### Data Normalization"
   ]
  },
  {
   "cell_type": "code",
   "execution_count": 5,
   "metadata": {},
   "outputs": [],
   "source": [
    "from sklearn.preprocessing import MinMaxScaler\n",
    "\n",
    "sc = MinMaxScaler(feature_range=(0,1))\n",
    "training_set_scaled = sc.fit_transform(training_set)"
   ]
  },
  {
   "cell_type": "markdown",
   "metadata": {},
   "source": [
    "### Incorporating Timesteps Into Data"
   ]
  },
  {
   "cell_type": "code",
   "execution_count": 12,
   "metadata": {},
   "outputs": [
    {
     "name": "stdout",
     "output_type": "stream",
     "text": [
      "(1975, 60, 1) (1975,)\n"
     ]
    }
   ],
   "source": [
    "X_train = []\n",
    "y_train = []\n",
    "\n",
    "for i in range(60, 2035):\n",
    "    \n",
    "    X_train.append(training_set_scaled[i-60:i, 0])\n",
    "    y_train.append(training_set_scaled[i, 0])\n",
    "    \n",
    "X_train, y_train = np.array(X_train), np.array(y_train)\n",
    "X_train = np.reshape(X_train, (X_train.shape[0], X_train.shape[1], 1))\n",
    "\n",
    "print(X_train.shape, y_train.shape)"
   ]
  },
  {
   "cell_type": "code",
   "execution_count": 13,
   "metadata": {
    "collapsed": true,
    "jupyter": {
     "outputs_hidden": true
    }
   },
   "outputs": [
    {
     "data": {
      "text/plain": [
       "array([[0.6202352 ],\n",
       "       [0.62226277],\n",
       "       [0.64436334],\n",
       "       [0.61719384],\n",
       "       [0.61820762],\n",
       "       [0.62408759],\n",
       "       [0.62793998],\n",
       "       [0.63584753],\n",
       "       [0.61658556],\n",
       "       [0.57725061],\n",
       "       [0.54845904],\n",
       "       [0.57339822],\n",
       "       [0.57339822],\n",
       "       [0.56731549],\n",
       "       [0.57948094],\n",
       "       [0.57137064],\n",
       "       [0.63706407],\n",
       "       [0.62814274],\n",
       "       [0.63219789],\n",
       "       [0.62550689],\n",
       "       [0.61942417],\n",
       "       [0.63219789],\n",
       "       [0.61111111],\n",
       "       [0.62206002],\n",
       "       [0.64557989],\n",
       "       [0.67234388],\n",
       "       [0.66058394],\n",
       "       [0.64760746],\n",
       "       [0.6283455 ],\n",
       "       [0.62408759],\n",
       "       [0.61597729],\n",
       "       [0.63341444],\n",
       "       [0.63077859],\n",
       "       [0.63321168],\n",
       "       [0.64841849],\n",
       "       [0.62469586],\n",
       "       [0.62814274],\n",
       "       [0.61394972],\n",
       "       [0.67964315],\n",
       "       [0.65815085],\n",
       "       [0.6593674 ],\n",
       "       [0.64841849],\n",
       "       [0.62773723],\n",
       "       [0.67883212],\n",
       "       [0.66058394],\n",
       "       [0.63990268],\n",
       "       [0.60888078],\n",
       "       [0.6431468 ],\n",
       "       [0.6784266 ],\n",
       "       [0.65064882],\n",
       "       [0.71695053],\n",
       "       [0.74574209],\n",
       "       [0.7676399 ],\n",
       "       [0.78548256],\n",
       "       [0.78994323],\n",
       "       [0.75892133],\n",
       "       [0.76520681],\n",
       "       [0.79622871],\n",
       "       [0.81062449],\n",
       "       [0.74371452]])"
      ]
     },
     "execution_count": 13,
     "metadata": {},
     "output_type": "execute_result"
    }
   ],
   "source": [
    "X_train[0]"
   ]
  },
  {
   "cell_type": "code",
   "execution_count": 14,
   "metadata": {},
   "outputs": [
    {
     "data": {
      "text/plain": [
       "0.7700729927007299"
      ]
     },
     "execution_count": 14,
     "metadata": {},
     "output_type": "execute_result"
    }
   ],
   "source": [
    "y_train[0]"
   ]
  },
  {
   "cell_type": "markdown",
   "metadata": {},
   "source": [
    "### Creating the LSTM Model"
   ]
  },
  {
   "cell_type": "code",
   "execution_count": 7,
   "metadata": {},
   "outputs": [],
   "source": [
    "from keras.models import Sequential\n",
    "from keras.layers import LSTM\n",
    "from keras.layers import Dropout\n",
    "from keras.layers import Dense"
   ]
  },
  {
   "cell_type": "code",
   "execution_count": 8,
   "metadata": {
    "scrolled": true
   },
   "outputs": [
    {
     "name": "stdout",
     "output_type": "stream",
     "text": [
      "Epoch 1/100\n",
      "62/62 [==============================] - 19s 48ms/step - loss: 0.0231\n",
      "Epoch 2/100\n",
      "62/62 [==============================] - 3s 48ms/step - loss: 0.0032\n",
      "Epoch 3/100\n",
      "62/62 [==============================] - 3s 45ms/step - loss: 0.0029\n",
      "Epoch 4/100\n",
      "62/62 [==============================] - 3s 51ms/step - loss: 0.0030\n",
      "Epoch 5/100\n",
      "62/62 [==============================] - 3s 46ms/step - loss: 0.0025\n",
      "Epoch 6/100\n",
      "62/62 [==============================] - 3s 44ms/step - loss: 0.0025\n",
      "Epoch 7/100\n",
      "62/62 [==============================] - 3s 45ms/step - loss: 0.0022\n",
      "Epoch 8/100\n",
      "62/62 [==============================] - 3s 44ms/step - loss: 0.0020\n",
      "Epoch 9/100\n",
      "62/62 [==============================] - 3s 44ms/step - loss: 0.0024\n",
      "Epoch 10/100\n",
      "62/62 [==============================] - 3s 48ms/step - loss: 0.0018\n",
      "Epoch 11/100\n",
      "62/62 [==============================] - 3s 46ms/step - loss: 0.0020\n",
      "Epoch 12/100\n",
      "62/62 [==============================] - 3s 45ms/step - loss: 0.0018\n",
      "Epoch 13/100\n",
      "62/62 [==============================] - 3s 47ms/step - loss: 0.0017\n",
      "Epoch 14/100\n",
      "62/62 [==============================] - 3s 52ms/step - loss: 0.0015\n",
      "Epoch 15/100\n",
      "62/62 [==============================] - 3s 48ms/step - loss: 0.0019\n",
      "Epoch 16/100\n",
      "62/62 [==============================] - 3s 51ms/step - loss: 0.0014\n",
      "Epoch 17/100\n",
      "62/62 [==============================] - 3s 45ms/step - loss: 0.0016\n",
      "Epoch 18/100\n",
      "62/62 [==============================] - 3s 46ms/step - loss: 0.0015\n",
      "Epoch 19/100\n",
      "62/62 [==============================] - 3s 45ms/step - loss: 0.0014\n",
      "Epoch 20/100\n",
      "62/62 [==============================] - 3s 46ms/step - loss: 0.0017\n",
      "Epoch 21/100\n",
      "62/62 [==============================] - 3s 47ms/step - loss: 0.0015\n",
      "Epoch 22/100\n",
      "62/62 [==============================] - 3s 46ms/step - loss: 0.0013\n",
      "Epoch 23/100\n",
      "62/62 [==============================] - 3s 45ms/step - loss: 0.0016\n",
      "Epoch 24/100\n",
      "62/62 [==============================] - 3s 47ms/step - loss: 0.0015\n",
      "Epoch 25/100\n",
      "62/62 [==============================] - 3s 47ms/step - loss: 0.0015\n",
      "Epoch 26/100\n",
      "62/62 [==============================] - 3s 45ms/step - loss: 0.0010\n",
      "Epoch 27/100\n",
      "62/62 [==============================] - 3s 51ms/step - loss: 0.0012\n",
      "Epoch 28/100\n",
      "62/62 [==============================] - 3s 45ms/step - loss: 0.0011\n",
      "Epoch 29/100\n",
      "62/62 [==============================] - 3s 49ms/step - loss: 0.0011\n",
      "Epoch 30/100\n",
      "62/62 [==============================] - 3s 49ms/step - loss: 0.0012\n",
      "Epoch 31/100\n",
      "62/62 [==============================] - 3s 48ms/step - loss: 0.0011\n",
      "Epoch 32/100\n",
      "62/62 [==============================] - 3s 50ms/step - loss: 0.0011\n",
      "Epoch 33/100\n",
      "62/62 [==============================] - 3s 44ms/step - loss: 0.0011\n",
      "Epoch 34/100\n",
      "62/62 [==============================] - 3s 44ms/step - loss: 0.0011\n",
      "Epoch 35/100\n",
      "62/62 [==============================] - 3s 44ms/step - loss: 9.0453e-04\n",
      "Epoch 36/100\n",
      "62/62 [==============================] - 3s 43ms/step - loss: 0.0012\n",
      "Epoch 37/100\n",
      "62/62 [==============================] - 3s 44ms/step - loss: 9.9575e-04\n",
      "Epoch 38/100\n",
      "62/62 [==============================] - 3s 44ms/step - loss: 0.0010\n",
      "Epoch 39/100\n",
      "62/62 [==============================] - 3s 44ms/step - loss: 9.7864e-04\n",
      "Epoch 40/100\n",
      "62/62 [==============================] - 3s 45ms/step - loss: 9.9648e-04\n",
      "Epoch 41/100\n",
      "62/62 [==============================] - 3s 44ms/step - loss: 9.3908e-04\n",
      "Epoch 42/100\n",
      "62/62 [==============================] - 3s 44ms/step - loss: 0.0010\n",
      "Epoch 43/100\n",
      "62/62 [==============================] - 3s 44ms/step - loss: 9.6537e-04\n",
      "Epoch 44/100\n",
      "62/62 [==============================] - 3s 43ms/step - loss: 7.8260e-04\n",
      "Epoch 45/100\n",
      "62/62 [==============================] - 3s 46ms/step - loss: 8.2541e-04\n",
      "Epoch 46/100\n",
      "62/62 [==============================] - 3s 46ms/step - loss: 8.6624e-04\n",
      "Epoch 47/100\n",
      "62/62 [==============================] - 3s 47ms/step - loss: 8.4512e-04\n",
      "Epoch 48/100\n",
      "62/62 [==============================] - 3s 45ms/step - loss: 8.8767e-04\n",
      "Epoch 49/100\n",
      "62/62 [==============================] - 3s 47ms/step - loss: 9.4094e-04\n",
      "Epoch 50/100\n",
      "62/62 [==============================] - 3s 44ms/step - loss: 8.9705e-04\n",
      "Epoch 51/100\n",
      "62/62 [==============================] - 3s 44ms/step - loss: 9.9276e-04\n",
      "Epoch 52/100\n",
      "62/62 [==============================] - 3s 45ms/step - loss: 8.7838e-04\n",
      "Epoch 53/100\n",
      "62/62 [==============================] - 3s 44ms/step - loss: 7.7975e-04\n",
      "Epoch 54/100\n",
      "62/62 [==============================] - 3s 43ms/step - loss: 8.9795e-04\n",
      "Epoch 55/100\n",
      "62/62 [==============================] - 3s 44ms/step - loss: 7.4390e-04\n",
      "Epoch 56/100\n",
      "62/62 [==============================] - 3s 46ms/step - loss: 7.5929e-04\n",
      "Epoch 57/100\n",
      "62/62 [==============================] - 3s 47ms/step - loss: 8.4942e-04\n",
      "Epoch 58/100\n",
      "62/62 [==============================] - 3s 44ms/step - loss: 6.8241e-04\n",
      "Epoch 59/100\n",
      "62/62 [==============================] - 3s 44ms/step - loss: 9.0448e-04\n",
      "Epoch 60/100\n",
      "62/62 [==============================] - 3s 51ms/step - loss: 6.1629e-04\n",
      "Epoch 61/100\n",
      "62/62 [==============================] - 3s 46ms/step - loss: 7.4880e-04\n",
      "Epoch 62/100\n",
      "62/62 [==============================] - 3s 49ms/step - loss: 7.5437e-04\n",
      "Epoch 63/100\n",
      "62/62 [==============================] - 3s 48ms/step - loss: 7.0886e-04\n",
      "Epoch 64/100\n",
      "62/62 [==============================] - 3s 45ms/step - loss: 6.6666e-04\n",
      "Epoch 65/100\n",
      "62/62 [==============================] - 3s 52ms/step - loss: 7.1569e-04\n",
      "Epoch 66/100\n",
      "62/62 [==============================] - 3s 45ms/step - loss: 8.6202e-04\n",
      "Epoch 67/100\n",
      "62/62 [==============================] - 3s 47ms/step - loss: 7.8640e-04\n",
      "Epoch 68/100\n",
      "62/62 [==============================] - 3s 48ms/step - loss: 7.1730e-04\n",
      "Epoch 69/100\n",
      "62/62 [==============================] - 3s 53ms/step - loss: 7.3204e-04\n",
      "Epoch 70/100\n",
      "62/62 [==============================] - 3s 55ms/step - loss: 8.4407e-04\n",
      "Epoch 71/100\n",
      "62/62 [==============================] - 3s 51ms/step - loss: 6.6685e-04\n",
      "Epoch 72/100\n",
      "62/62 [==============================] - 3s 51ms/step - loss: 6.9075e-04\n",
      "Epoch 73/100\n",
      "62/62 [==============================] - 3s 56ms/step - loss: 7.1206e-04\n",
      "Epoch 74/100\n",
      "62/62 [==============================] - 3s 50ms/step - loss: 7.6432e-04\n",
      "Epoch 75/100\n",
      "62/62 [==============================] - 3s 49ms/step - loss: 7.2799e-04\n",
      "Epoch 76/100\n",
      "62/62 [==============================] - 3s 51ms/step - loss: 6.8027e-04\n",
      "Epoch 77/100\n",
      "62/62 [==============================] - 3s 48ms/step - loss: 7.6143e-04\n",
      "Epoch 78/100\n",
      "62/62 [==============================] - 3s 46ms/step - loss: 7.0587e-04\n",
      "Epoch 79/100\n",
      "62/62 [==============================] - 3s 47ms/step - loss: 6.8829e-04\n",
      "Epoch 80/100\n",
      "62/62 [==============================] - 3s 48ms/step - loss: 6.8732e-04\n",
      "Epoch 81/100\n",
      "62/62 [==============================] - 3s 45ms/step - loss: 6.7220e-04\n",
      "Epoch 82/100\n",
      "62/62 [==============================] - 3s 47ms/step - loss: 7.8102e-04\n",
      "Epoch 83/100\n",
      "62/62 [==============================] - 3s 51ms/step - loss: 8.0748e-04\n",
      "Epoch 84/100\n",
      "62/62 [==============================] - 3s 45ms/step - loss: 7.1757e-04\n",
      "Epoch 85/100\n",
      "62/62 [==============================] - 3s 50ms/step - loss: 5.9021e-04\n",
      "Epoch 86/100\n",
      "62/62 [==============================] - 3s 46ms/step - loss: 6.4099e-04\n",
      "Epoch 87/100\n",
      "62/62 [==============================] - 3s 45ms/step - loss: 6.6725e-04\n",
      "Epoch 88/100\n",
      "62/62 [==============================] - 3s 47ms/step - loss: 6.7573e-04\n",
      "Epoch 89/100\n",
      "62/62 [==============================] - 3s 45ms/step - loss: 6.6912e-04\n",
      "Epoch 90/100\n",
      "62/62 [==============================] - 3s 46ms/step - loss: 5.8467e-04\n",
      "Epoch 91/100\n",
      "62/62 [==============================] - 3s 49ms/step - loss: 5.4245e-04\n",
      "Epoch 92/100\n",
      "62/62 [==============================] - 3s 48ms/step - loss: 5.5889e-04\n",
      "Epoch 93/100\n",
      "62/62 [==============================] - 3s 46ms/step - loss: 5.8722e-04\n",
      "Epoch 94/100\n",
      "62/62 [==============================] - 3s 50ms/step - loss: 7.0176e-04\n",
      "Epoch 95/100\n",
      "62/62 [==============================] - 3s 45ms/step - loss: 6.1698e-04\n",
      "Epoch 96/100\n",
      "62/62 [==============================] - 3s 46ms/step - loss: 5.7886e-04\n",
      "Epoch 97/100\n",
      "62/62 [==============================] - 3s 45ms/step - loss: 6.0977e-04\n",
      "Epoch 98/100\n",
      "62/62 [==============================] - 3s 45ms/step - loss: 7.4523e-04\n",
      "Epoch 99/100\n",
      "62/62 [==============================] - 3s 45ms/step - loss: 6.1220e-04\n",
      "Epoch 100/100\n",
      "62/62 [==============================] - 3s 44ms/step - loss: 7.1802e-04\n"
     ]
    },
    {
     "data": {
      "text/plain": [
       "<keras.callbacks.History at 0x7efe7455f290>"
      ]
     },
     "execution_count": 8,
     "metadata": {},
     "output_type": "execute_result"
    }
   ],
   "source": [
    "model = Sequential()\n",
    "model.add(LSTM(units=50,return_sequences=True,input_shape=(X_train.shape[1], 1)))\n",
    "model.add(Dropout(0.2))\n",
    "model.add(LSTM(units=50,return_sequences=True))\n",
    "model.add(Dropout(0.2))\n",
    "model.add(LSTM(units=50,return_sequences=True))\n",
    "model.add(Dropout(0.2))\n",
    "model.add(LSTM(units=50))\n",
    "model.add(Dropout(0.2))\n",
    "model.add(Dense(units=1))\n",
    "model.compile(optimizer='adam',loss='mean_squared_error')\n",
    "model.fit(X_train,y_train,epochs=100,batch_size=32)"
   ]
  },
  {
   "cell_type": "markdown",
   "metadata": {},
   "source": [
    "### Making Predictions on the Test Set"
   ]
  },
  {
   "cell_type": "code",
   "execution_count": 9,
   "metadata": {},
   "outputs": [],
   "source": [
    "url = 'https://raw.githubusercontent.com/mwitiderrick/stockprice/master/tatatest.csv'\n",
    "dataset_test = pd.read_csv(url)\n",
    "real_stock_price = dataset_test.iloc[:, 1:2].values"
   ]
  },
  {
   "cell_type": "code",
   "execution_count": 10,
   "metadata": {},
   "outputs": [],
   "source": [
    "dataset_total = pd.concat((dataset_train['Open'], dataset_test['Open']), axis = 0)\n",
    "inputs = dataset_total[len(dataset_total) - len(dataset_test) - 60:].values\n",
    "inputs = inputs.reshape(-1,1)\n",
    "inputs = sc.transform(inputs)\n",
    "X_test = []\n",
    "\n",
    "for i in range(60, 76):\n",
    "    \n",
    "    X_test.append(inputs[i-60:i, 0])\n",
    "    \n",
    "X_test = np.array(X_test)\n",
    "X_test = np.reshape(X_test, (X_test.shape[0], X_test.shape[1], 1))\n",
    "predicted_stock_price = model.predict(X_test)\n",
    "predicted_stock_price = sc.inverse_transform(predicted_stock_price)"
   ]
  },
  {
   "cell_type": "markdown",
   "metadata": {},
   "source": [
    "### Plotting the Results"
   ]
  },
  {
   "cell_type": "code",
   "execution_count": 11,
   "metadata": {},
   "outputs": [
    {
     "data": {
      "image/png": "[encoded data removed]",
      "text/plain": [
       "<Figure size 432x288 with 1 Axes>"
      ]
     },
     "metadata": {
      "needs_background": "light"
     },
     "output_type": "display_data"
    }
   ],
   "source": [
    "plt.plot(real_stock_price, color = 'black', label = 'TATA Stock Price')\n",
    "plt.plot(predicted_stock_price, color = 'green', label = 'Predicted TATA Stock Price')\n",
    "plt.title('TATA Stock Price Prediction')\n",
    "plt.xlabel('Time')\n",
    "plt.ylabel('TATA Stock Price')\n",
    "plt.legend()\n",
    "plt.show()"
   ]
  }
 ],
 "metadata": {
  "kernelspec": {
   "display_name": "Python 3",
   "language": "python",
   "name": "python3"
  },
  "language_info": {
   "codemirror_mode": {
    "name": "ipython",
    "version": 3
   },
   "file_extension": ".py",
   "mimetype": "text/x-python",
   "name": "python",
   "nbconvert_exporter": "python",
   "pygments_lexer": "ipython3",
   "version": "3.7.9"
  }
 },
 "nbformat": 4,
 "nbformat_minor": 4
}
